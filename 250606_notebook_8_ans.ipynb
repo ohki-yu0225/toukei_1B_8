{
  "cells": [
    {
      "cell_type": "markdown",
      "metadata": {
        "id": "view-in-github",
        "colab_type": "text"
      },
      "source": [
        "<a href=\"https://colab.research.google.com/github/ohki-yu0225/toukei_1B_8/blob/main/250606_notebook_8_ans.ipynb\" target=\"_parent\"><img src=\"https://colab.research.google.com/assets/colab-badge.svg\" alt=\"Open In Colab\"/></a>"
      ]
    },
    {
      "cell_type": "markdown",
      "metadata": {
        "id": "9TnIKZHMR4_o"
      },
      "source": [
        "# 統計学実習 IB 第 8 回\n"
      ]
    },
    {
      "cell_type": "markdown",
      "metadata": {
        "id": "Rravke2kR4_p"
      },
      "source": [
        "## 確率\n",
        "### 1つのサイコロを1度振る試行\n",
        "サイコロを1度降る試行をシミュレーションする。シミュレーションにはある確率に従ってあらかじめ定められた範囲の値から、ランダムに1つの値を出力する`np.random.choice`を使う。\n",
        "\n",
        "---\n",
        "```Python\n",
        "np.random.choice({事象}, p={確率}, size={試行回数}) #確率は省略可能\n",
        "```\n",
        "---"
      ]
    },
    {
      "cell_type": "markdown",
      "metadata": {
        "id": "9E_BG6RbR4_p"
      },
      "source": [
        "## Probability\n",
        "### Trial to roll one dice once\n",
        "Simulate an attempt to roll a dice once. The simulation uses `np.random.choice` which outputs a random value from a predefined range of values according to a certain probability.\n",
        "\n",
        "---\n",
        "```Python\n",
        "np.random.choice({event}, p={probability}, size={number of trials}) #Probability is optional\n",
        "```\n",
        "---"
      ]
    },
    {
      "cell_type": "code",
      "source": [
        "# 'pandas', 'numpy', 'matplotlib.pyplot', 'japanize_matplotlib'をインポートする。\n",
        "# Import 'pandas', 'numpy', 'matplotlib.pyplot', and 'japanize_matplotlib'.\n",
        "!pip install japanize_matplotlib\n",
        "import pandas as pd\n",
        "import numpy as np\n",
        "import matplotlib.pyplot as plt\n",
        "import japanize_matplotlib"
      ],
      "metadata": {
        "id": "h1S_loXpZhZf"
      },
      "execution_count": null,
      "outputs": []
    },
    {
      "cell_type": "code",
      "execution_count": 18,
      "metadata": {
        "colab": {
          "base_uri": "https://localhost:8080/"
        },
        "id": "Dd-SFHMgR4_q",
        "outputId": "3798d6da-0e60-40b7-eb21-ac016f0602f3"
      },
      "outputs": [
        {
          "output_type": "stream",
          "name": "stdout",
          "text": [
            "[6 3 1 3 5 6 1 3 4 6 1 2 3 5 6 5 6 5 5 2 4 3 4 5 1 5 2 4 4 1 6 1 5 2 6 4 4\n",
            " 4 6 5 1 3 6 1 1 4 6 1 6 3 1 2 3 3 5 4 2 4 2 6 3 2 4 1 1 6 4 6 1 3 1 1 1 4\n",
            " 5 3 2 3 5 3 6 4 1 5 5 1 1 3 4 3 1 3 6 2 6 6 1 6 4 4 2 5 1 1 4 5 3 1 4 2 2\n",
            " 5 1 3 3 3 3 2 5 3 1 5 4 2 5 1 3 5 3 5 5 3 6 2 4 1 6 6 2 6 3 1 1 3 3 2 5 4\n",
            " 2 1 4 1 4 1 3 6 2 6 4 1 1 6 4 4 1 3 1 6 6 5 5 2 6 6 3 4 5 4 1 5 6 1 4 5 4\n",
            " 4 3 6 6 4 3 5 4 5 6 6 5 4 2 3 5 6 6 2 2 5 5 3 2 3 1 2 6 5 6 6 6 1 2 3 6 3\n",
            " 1 2 2 1 3 2 1 1 1 2 1 2 1 1 1 5 5 6 3 6 2 5 6 5 1 3 4 3 5 1 4 1 5 4 2 6 6\n",
            " 5 5 3 5 2 4 1 3 5 5 1 5 5 4 1 5 4 1 3 2 5 1 2 1 2 1 5 3 2 3 6 1 1 3 5 1 5\n",
            " 1 4 4 4 1 4 6 5 3 3 1 4 2 3 6 6 6 5 3 5 6 3 2 4 2 1 2 5 3 4 3 6 1 4 5 4 6\n",
            " 4 1 5 6 3 1 3 5 5 6 1 2 3 2 6 2 6 3 2 2 2 1 4 4 4 6 6 1 4 5 4 3 2 2 6 2 6\n",
            " 4 1 4 1 5 2 3 2 2 2 2 2 2 3 6 3 6 3 4 2 3 2 4 3 1 6 2 5 1 3 6 1 3 2 1 6 1\n",
            " 4 5 1 4 6 5 4 1 3 1 6 2 4 5 2 5 5 5 3 3 6 6 3 2 4 5 5 6 5 5 6 6 4 6 5 1 6\n",
            " 6 2 2 5 6 4 6 3 6 5 4 5 5 6 5 5 6 1 2 4 6 3 6 5 6 2 6 6 1 4 3 6 6 2 2 2 5\n",
            " 4 1 1 4 1 2 5 6 2 2 1 5 4 4 1 2 1 5 3 6 6 2 2 5 3 1 2 5 2 2 2 4 4 6 1 3 6\n",
            " 2 1 2 4 1 6 1 6 4 6 5 3 3 1 6 4 1 2 6 2 5 3 1 6 2 4 2 1 4 6 6 6 4 3 3 6 5\n",
            " 5 1 6 2 4 2 4 1 3 2 3 6 4 1 2 4 6 3 2 2 4 4 6 2 4 4 3 2 3 5 4 4 2 3 3 3 3\n",
            " 5 2 3 4 5 6 6 2 1 5 5 3 1 3 5 2 4 2 6 5 5 1 1 3 1 2 6 1 1 1 2 3 1 1 1 6 3\n",
            " 5 4 1 1 2 2 4 6 6 2 5 5 2 3 3 3 4 5 4 6 6 3 1 4 1 5 4 1 5 6 5 4 5 1 4 2 3\n",
            " 3 3 3 5 5 1 5 4 2 2 4 6 3 3 5 2 6 4 6 1 4 1 2 5 4 6 6 4 3 2 2 6 4 2 5 1 4\n",
            " 1 3 1 2 3 5 5 5 2 4 2 5 4 5 1 5 2 5 2 5 2 4 5 4 6 6 2 6 6 2 2 2 5 2 4 1 3\n",
            " 3 1 1 3 5 2 2 3 4 2 6 3 3 3 3 1 5 3 6 5 3 5 5 5 2 2 4 2 6 4 5 4 3 2 3 2 3\n",
            " 5 3 6 5 5 3 3 4 4 2 5 2 5 6 1 4 4 2 4 4 5 6 3 6 2 5 4 4 1 3 2 5 6 1 5 5 5\n",
            " 2 4 5 4 5 6 6 2 6 2 2 1 6 1 2 1 3 1 4 2 4 6 6 2 2 3 3 6 5 3 5 6 1 1 4 1 4\n",
            " 4 3 4 5 1 2 4 2 3 3 4 5 2 1 5 4 4 5 4 2 2 1 1 1 5 2 1 6 5 3 6 1 6 3 1 2 4\n",
            " 2 6 5 1 5 1 5 2 3 6 4 4 6 6 4 4 2 3 2 1 3 2 1 6 3 5 2 1 5 6 3 4 6 2 1 1 5\n",
            " 1 5 5 2 2 5 6 3 3 2 5 4 2 6 6 1 6 1 5 2 5 6 2 2 1 6 2 3 6 2 2 3 6 2 2 4 3\n",
            " 1 4 4 3 6 3 4 1 3 2 6 2 5 1 2 6 4 6 6 2 3 1 3 2 4 2 4 1 3 5 3 4 5 3 5 6 2\n",
            " 5]\n"
          ]
        }
      ],
      "source": [
        "# サイコロを1回振る試行を1000回行った結果を出力する。\n",
        "# Output the result of 1000 trials of one roll of the dice.\n",
        "num_trial1 = 1000\n",
        "dice = [1, 2, 3, 4, 5, 6]\n",
        "prob = [1 / 6, 1 / 6, 1 / 6, 1 / 6, 1 / 6, 1 / 6]\n",
        "x = np.random.choice(dice, p=prob, size=num_trial1)\n",
        "print(x)"
      ]
    },
    {
      "cell_type": "markdown",
      "metadata": {
        "id": "8nmC0acBR4_q"
      },
      "source": [
        "出力した結果から度数分布表とヒストグラムを作成する。度数を試行回数で割った値が相対度数であり、相対度数に基づいてヒストグラムを作成するときは`density=True`を`plt.hist`に加える。また、試行回数(`num_trail1`)を変えて、相対度数の数学的確率に近づくことを確認する。（頻度による確率の定義）"
      ]
    },
    {
      "cell_type": "markdown",
      "metadata": {
        "id": "5P72ZjAkR4_q"
      },
      "source": [
        "Create a frequency distribution table and a histogram from the results of the trials obtained. The value of the frequency divided by the number of trials is the relative frequency, and `density=True` is added to `plt.hist` to make a histogram based on the relative frequency. Also, change the number of trials (`num_trail1`) and check that it approaches the mathematical probability of the relative frequency. (Definition of probability by frequency)"
      ]
    },
    {
      "cell_type": "code",
      "execution_count": 19,
      "metadata": {
        "colab": {
          "base_uri": "https://localhost:8080/",
          "height": 238
        },
        "id": "AsDelpJyR4_q",
        "outputId": "1aca43fe-6b37-4097-872c-16ccab57bd93"
      },
      "outputs": [
        {
          "output_type": "execute_result",
          "data": {
            "text/plain": [
              "    度数   相対度数\n",
              "1  167  0.167\n",
              "2  181  0.181\n",
              "3  157  0.157\n",
              "4  156  0.156\n",
              "5  170  0.170\n",
              "6  169  0.169"
            ],
            "text/html": [
              "\n",
              "  <div id=\"df-1b2362ff-b6c1-4dfc-b4ac-39144b976410\" class=\"colab-df-container\">\n",
              "    <div>\n",
              "<style scoped>\n",
              "    .dataframe tbody tr th:only-of-type {\n",
              "        vertical-align: middle;\n",
              "    }\n",
              "\n",
              "    .dataframe tbody tr th {\n",
              "        vertical-align: top;\n",
              "    }\n",
              "\n",
              "    .dataframe thead th {\n",
              "        text-align: right;\n",
              "    }\n",
              "</style>\n",
              "<table border=\"1\" class=\"dataframe\">\n",
              "  <thead>\n",
              "    <tr style=\"text-align: right;\">\n",
              "      <th></th>\n",
              "      <th>度数</th>\n",
              "      <th>相対度数</th>\n",
              "    </tr>\n",
              "  </thead>\n",
              "  <tbody>\n",
              "    <tr>\n",
              "      <th>1</th>\n",
              "      <td>167</td>\n",
              "      <td>0.167</td>\n",
              "    </tr>\n",
              "    <tr>\n",
              "      <th>2</th>\n",
              "      <td>181</td>\n",
              "      <td>0.181</td>\n",
              "    </tr>\n",
              "    <tr>\n",
              "      <th>3</th>\n",
              "      <td>157</td>\n",
              "      <td>0.157</td>\n",
              "    </tr>\n",
              "    <tr>\n",
              "      <th>4</th>\n",
              "      <td>156</td>\n",
              "      <td>0.156</td>\n",
              "    </tr>\n",
              "    <tr>\n",
              "      <th>5</th>\n",
              "      <td>170</td>\n",
              "      <td>0.170</td>\n",
              "    </tr>\n",
              "    <tr>\n",
              "      <th>6</th>\n",
              "      <td>169</td>\n",
              "      <td>0.169</td>\n",
              "    </tr>\n",
              "  </tbody>\n",
              "</table>\n",
              "</div>\n",
              "    <div class=\"colab-df-buttons\">\n",
              "\n",
              "  <div class=\"colab-df-container\">\n",
              "    <button class=\"colab-df-convert\" onclick=\"convertToInteractive('df-1b2362ff-b6c1-4dfc-b4ac-39144b976410')\"\n",
              "            title=\"Convert this dataframe to an interactive table.\"\n",
              "            style=\"display:none;\">\n",
              "\n",
              "  <svg xmlns=\"http://www.w3.org/2000/svg\" height=\"24px\" viewBox=\"0 -960 960 960\">\n",
              "    <path d=\"M120-120v-720h720v720H120Zm60-500h600v-160H180v160Zm220 220h160v-160H400v160Zm0 220h160v-160H400v160ZM180-400h160v-160H180v160Zm440 0h160v-160H620v160ZM180-180h160v-160H180v160Zm440 0h160v-160H620v160Z\"/>\n",
              "  </svg>\n",
              "    </button>\n",
              "\n",
              "  <style>\n",
              "    .colab-df-container {\n",
              "      display:flex;\n",
              "      gap: 12px;\n",
              "    }\n",
              "\n",
              "    .colab-df-convert {\n",
              "      background-color: #E8F0FE;\n",
              "      border: none;\n",
              "      border-radius: 50%;\n",
              "      cursor: pointer;\n",
              "      display: none;\n",
              "      fill: #1967D2;\n",
              "      height: 32px;\n",
              "      padding: 0 0 0 0;\n",
              "      width: 32px;\n",
              "    }\n",
              "\n",
              "    .colab-df-convert:hover {\n",
              "      background-color: #E2EBFA;\n",
              "      box-shadow: 0px 1px 2px rgba(60, 64, 67, 0.3), 0px 1px 3px 1px rgba(60, 64, 67, 0.15);\n",
              "      fill: #174EA6;\n",
              "    }\n",
              "\n",
              "    .colab-df-buttons div {\n",
              "      margin-bottom: 4px;\n",
              "    }\n",
              "\n",
              "    [theme=dark] .colab-df-convert {\n",
              "      background-color: #3B4455;\n",
              "      fill: #D2E3FC;\n",
              "    }\n",
              "\n",
              "    [theme=dark] .colab-df-convert:hover {\n",
              "      background-color: #434B5C;\n",
              "      box-shadow: 0px 1px 3px 1px rgba(0, 0, 0, 0.15);\n",
              "      filter: drop-shadow(0px 1px 2px rgba(0, 0, 0, 0.3));\n",
              "      fill: #FFFFFF;\n",
              "    }\n",
              "  </style>\n",
              "\n",
              "    <script>\n",
              "      const buttonEl =\n",
              "        document.querySelector('#df-1b2362ff-b6c1-4dfc-b4ac-39144b976410 button.colab-df-convert');\n",
              "      buttonEl.style.display =\n",
              "        google.colab.kernel.accessAllowed ? 'block' : 'none';\n",
              "\n",
              "      async function convertToInteractive(key) {\n",
              "        const element = document.querySelector('#df-1b2362ff-b6c1-4dfc-b4ac-39144b976410');\n",
              "        const dataTable =\n",
              "          await google.colab.kernel.invokeFunction('convertToInteractive',\n",
              "                                                    [key], {});\n",
              "        if (!dataTable) return;\n",
              "\n",
              "        const docLinkHtml = 'Like what you see? Visit the ' +\n",
              "          '<a target=\"_blank\" href=https://colab.research.google.com/notebooks/data_table.ipynb>data table notebook</a>'\n",
              "          + ' to learn more about interactive tables.';\n",
              "        element.innerHTML = '';\n",
              "        dataTable['output_type'] = 'display_data';\n",
              "        await google.colab.output.renderOutput(dataTable, element);\n",
              "        const docLink = document.createElement('div');\n",
              "        docLink.innerHTML = docLinkHtml;\n",
              "        element.appendChild(docLink);\n",
              "      }\n",
              "    </script>\n",
              "  </div>\n",
              "\n",
              "\n",
              "    <div id=\"df-8909dbe8-f643-4a50-8ec9-8ba69ef8c8b2\">\n",
              "      <button class=\"colab-df-quickchart\" onclick=\"quickchart('df-8909dbe8-f643-4a50-8ec9-8ba69ef8c8b2')\"\n",
              "                title=\"Suggest charts\"\n",
              "                style=\"display:none;\">\n",
              "\n",
              "<svg xmlns=\"http://www.w3.org/2000/svg\" height=\"24px\"viewBox=\"0 0 24 24\"\n",
              "     width=\"24px\">\n",
              "    <g>\n",
              "        <path d=\"M19 3H5c-1.1 0-2 .9-2 2v14c0 1.1.9 2 2 2h14c1.1 0 2-.9 2-2V5c0-1.1-.9-2-2-2zM9 17H7v-7h2v7zm4 0h-2V7h2v10zm4 0h-2v-4h2v4z\"/>\n",
              "    </g>\n",
              "</svg>\n",
              "      </button>\n",
              "\n",
              "<style>\n",
              "  .colab-df-quickchart {\n",
              "      --bg-color: #E8F0FE;\n",
              "      --fill-color: #1967D2;\n",
              "      --hover-bg-color: #E2EBFA;\n",
              "      --hover-fill-color: #174EA6;\n",
              "      --disabled-fill-color: #AAA;\n",
              "      --disabled-bg-color: #DDD;\n",
              "  }\n",
              "\n",
              "  [theme=dark] .colab-df-quickchart {\n",
              "      --bg-color: #3B4455;\n",
              "      --fill-color: #D2E3FC;\n",
              "      --hover-bg-color: #434B5C;\n",
              "      --hover-fill-color: #FFFFFF;\n",
              "      --disabled-bg-color: #3B4455;\n",
              "      --disabled-fill-color: #666;\n",
              "  }\n",
              "\n",
              "  .colab-df-quickchart {\n",
              "    background-color: var(--bg-color);\n",
              "    border: none;\n",
              "    border-radius: 50%;\n",
              "    cursor: pointer;\n",
              "    display: none;\n",
              "    fill: var(--fill-color);\n",
              "    height: 32px;\n",
              "    padding: 0;\n",
              "    width: 32px;\n",
              "  }\n",
              "\n",
              "  .colab-df-quickchart:hover {\n",
              "    background-color: var(--hover-bg-color);\n",
              "    box-shadow: 0 1px 2px rgba(60, 64, 67, 0.3), 0 1px 3px 1px rgba(60, 64, 67, 0.15);\n",
              "    fill: var(--button-hover-fill-color);\n",
              "  }\n",
              "\n",
              "  .colab-df-quickchart-complete:disabled,\n",
              "  .colab-df-quickchart-complete:disabled:hover {\n",
              "    background-color: var(--disabled-bg-color);\n",
              "    fill: var(--disabled-fill-color);\n",
              "    box-shadow: none;\n",
              "  }\n",
              "\n",
              "  .colab-df-spinner {\n",
              "    border: 2px solid var(--fill-color);\n",
              "    border-color: transparent;\n",
              "    border-bottom-color: var(--fill-color);\n",
              "    animation:\n",
              "      spin 1s steps(1) infinite;\n",
              "  }\n",
              "\n",
              "  @keyframes spin {\n",
              "    0% {\n",
              "      border-color: transparent;\n",
              "      border-bottom-color: var(--fill-color);\n",
              "      border-left-color: var(--fill-color);\n",
              "    }\n",
              "    20% {\n",
              "      border-color: transparent;\n",
              "      border-left-color: var(--fill-color);\n",
              "      border-top-color: var(--fill-color);\n",
              "    }\n",
              "    30% {\n",
              "      border-color: transparent;\n",
              "      border-left-color: var(--fill-color);\n",
              "      border-top-color: var(--fill-color);\n",
              "      border-right-color: var(--fill-color);\n",
              "    }\n",
              "    40% {\n",
              "      border-color: transparent;\n",
              "      border-right-color: var(--fill-color);\n",
              "      border-top-color: var(--fill-color);\n",
              "    }\n",
              "    60% {\n",
              "      border-color: transparent;\n",
              "      border-right-color: var(--fill-color);\n",
              "    }\n",
              "    80% {\n",
              "      border-color: transparent;\n",
              "      border-right-color: var(--fill-color);\n",
              "      border-bottom-color: var(--fill-color);\n",
              "    }\n",
              "    90% {\n",
              "      border-color: transparent;\n",
              "      border-bottom-color: var(--fill-color);\n",
              "    }\n",
              "  }\n",
              "</style>\n",
              "\n",
              "      <script>\n",
              "        async function quickchart(key) {\n",
              "          const quickchartButtonEl =\n",
              "            document.querySelector('#' + key + ' button');\n",
              "          quickchartButtonEl.disabled = true;  // To prevent multiple clicks.\n",
              "          quickchartButtonEl.classList.add('colab-df-spinner');\n",
              "          try {\n",
              "            const charts = await google.colab.kernel.invokeFunction(\n",
              "                'suggestCharts', [key], {});\n",
              "          } catch (error) {\n",
              "            console.error('Error during call to suggestCharts:', error);\n",
              "          }\n",
              "          quickchartButtonEl.classList.remove('colab-df-spinner');\n",
              "          quickchartButtonEl.classList.add('colab-df-quickchart-complete');\n",
              "        }\n",
              "        (() => {\n",
              "          let quickchartButtonEl =\n",
              "            document.querySelector('#df-8909dbe8-f643-4a50-8ec9-8ba69ef8c8b2 button');\n",
              "          quickchartButtonEl.style.display =\n",
              "            google.colab.kernel.accessAllowed ? 'block' : 'none';\n",
              "        })();\n",
              "      </script>\n",
              "    </div>\n",
              "\n",
              "    </div>\n",
              "  </div>\n"
            ],
            "application/vnd.google.colaboratory.intrinsic+json": {
              "type": "dataframe",
              "summary": "{\n  \"name\": \"pd\",\n  \"rows\": 6,\n  \"fields\": [\n    {\n      \"column\": \"\\u5ea6\\u6570\",\n      \"properties\": {\n        \"dtype\": \"number\",\n        \"std\": 9,\n        \"min\": 156,\n        \"max\": 181,\n        \"num_unique_values\": 6,\n        \"samples\": [\n          167,\n          181,\n          169\n        ],\n        \"semantic_type\": \"\",\n        \"description\": \"\"\n      }\n    },\n    {\n      \"column\": \"\\u76f8\\u5bfe\\u5ea6\\u6570\",\n      \"properties\": {\n        \"dtype\": \"number\",\n        \"std\": 0.00926642685541016,\n        \"min\": 0.156,\n        \"max\": 0.181,\n        \"num_unique_values\": 6,\n        \"samples\": [\n          0.167,\n          0.181,\n          0.169\n        ],\n        \"semantic_type\": \"\",\n        \"description\": \"\"\n      }\n    }\n  ]\n}"
            }
          },
          "metadata": {},
          "execution_count": 19
        }
      ],
      "source": [
        "# サイコロの出目の度数分布表を作成する。度数分布表には相対度数を加える。\n",
        "# Create a frequency distribution table of the dice rolls. Add relative frequencies to the frequency distribution table.\n",
        "bins = np.arange(1, 8, 1)\n",
        "freq, hist = np.histogram(x, bins=bins)\n",
        "pd.DataFrame({\"度数\": freq, \"相対度数\": freq / num_trial1}, index=np.arange(1, 7))"
      ]
    },
    {
      "cell_type": "code",
      "execution_count": 20,
      "metadata": {
        "colab": {
          "base_uri": "https://localhost:8080/",
          "height": 465
        },
        "id": "UVPkbAaSR4_r",
        "outputId": "10d7fcd9-723f-404a-dfc1-95c57e71b6fd"
      },
      "outputs": [
        {
          "output_type": "execute_result",
          "data": {
            "text/plain": [
              "Text(0.5, 0, '出目')"
            ]
          },
          "metadata": {},
          "execution_count": 20
        },
        {
          "output_type": "display_data",
          "data": {
            "text/plain": [
              "<Figure size 640x480 with 1 Axes>"
            ],
            "image/png": "[encoded data removed]"
          },
          "metadata": {}
        }
      ],
      "source": [
        "# サイコロの出目の相対度数のヒストグラムを図示し、数学的確率と比較する。\n",
        "# ヒストグラムは相対度数で作成する。\n",
        "# Illustrate a histogram of the relative frequencies of the dice rolls and compare them to the mathematical probabilities.\n",
        "# Histograms should be made in relative frequencies.\n",
        "plt.hist(x, bins=bins, density=True) #`density=True`で相対度数のヒストグラムを作成する(Create a histogram of relative frequencies with `density=True`.)\n",
        "plt.hlines(prob, np.arange(1, 7), np.arange(2, 8), colors=\"r\")\n",
        "plt.ylabel(\"相対度数\")\n",
        "plt.xlabel(\"出目\")"
      ]
    },
    {
      "cell_type": "markdown",
      "metadata": {
        "id": "49TsEkqOR4_r"
      },
      "source": [
        "### 歪みのあるコインを１度振る試行"
      ]
    },
    {
      "cell_type": "markdown",
      "metadata": {
        "id": "2CqX9RUwR4_r"
      },
      "source": [
        "### Trials to toss a distorted coin once"
      ]
    },
    {
      "cell_type": "code",
      "execution_count": 21,
      "metadata": {
        "colab": {
          "base_uri": "https://localhost:8080/"
        },
        "id": "hvCheX2aR4_r",
        "outputId": "5c7c19a9-181d-479b-aef8-7954586aa05e"
      },
      "outputs": [
        {
          "output_type": "stream",
          "name": "stdout",
          "text": [
            "[1 1 1 1 1 1 1 1 1 1 0 1 1 1 1 1 1 1 1 1 1 1 0 1 1 1 1 0 1 1 1 1 1 1 0 1 0\n",
            " 1 1 0 1 1 1 1 1 1 1 0 1 1 1 0 1 1 1 1 1 0 1 1 1 1 1 1 1 1 1 1 1 1 1 1 1 1\n",
            " 0 1 1 1 1 1 1 1 1 1 1 1 1 0 1 1 1 1 0 0 1 0 1 0 1 0 1 1 1 1 1 1 1 1 1 1 1\n",
            " 1 1 1 1 1 0 1 1 0 1 1 1 0 1 1 0 0 1 1 0 0 1 0 1 1 1 1 1 1 0 0 1 1 1 0 1 1\n",
            " 0 0 1 1 1 0 1 1 1 1 1 1 1 1 0 1 1 1 1 1 0 1 1 1 0 1 1 1 1 1 0 1 1 1 1 0 1\n",
            " 0 1 0 1 0 1 1 1 1 0 1 1 1 1 1 1 1 0 1 1 1 0 1 1 0 0 0 1 1 1 0 0 1 1 1 1 1\n",
            " 0 0 1 0 1 1 0 0 1 1 1 1 1 1 1 1 0 1 1 1 1 1 0 1 1 1 1 0 0 0 1 0 1 1 1 1 1\n",
            " 1 1 1 1 1 0 0 1 0 1 1 1 1 0 1 0 1 1 1 1 1 1 1 1 1 1 1 1 0 1 1 1 1 1 0 1 0\n",
            " 1 1 1 1 0 1 0 1 1 0 1 1 1 1 1 1 0 1 1 1 0 0 1 0 1 1 0 1 0 1 1 1 1 1 1 1 0\n",
            " 1 1 1 1 1 0 0 1 1 1 0 1 1 1 1 1 0 0 1 1 1 1 1 1 1 1 1 1 1 1 0 1 1 1 1 0 1\n",
            " 1 1 1 1 1 1 1 1 0 0 1 1 0 1 1 1 1 1 1 0 0 1 1 0 0 1 1 1 1 0 1 1 0 1 1 1 1\n",
            " 1 1 0 1 1 1 1 0 1 1 1 1 1 1 1 0 0 1 0 1 1 0 1 1 1 0 1 1 1 1 1 1 1 1 1 1 1\n",
            " 0 0 1 1 1 1 0 1 1 1 1 1 1 1 1 1 1 1 1 0 1 0 1 1 1 1 1 0 0 0 1 1 1 0 1 0 1\n",
            " 1 1 1 1 1 1 1 1 1 1 1 1 1 1 1 1 0 1 0 1 1 1 1 1 1 1 1 1 0 1 1 1 1 1 1 1 1\n",
            " 1 1 0 1 1 1 0 1 1 1 1 1 0 1 1 0 1 1 0 1 1 0 1 0 1 1 1 1 0 1 1 1 1 1 0 1 1\n",
            " 1 1 1 1 0 1 1 1 1 1 0 1 1 1 0 0 1 1 1 1 0 1 1 1 1 1 1 1 1 1 1 1 1 1 1 1 1\n",
            " 1 1 0 1 1 1 0 1 1 1 1 1 1 1 0 1 1 1 1 1 1 1 1 1 0 1 1 1 1 0 0 1 1 1 1 0 1\n",
            " 1 1 1 1 0 0 0 1 1 1 0 0 0 1 1 1 1 1 0 1 1 1 0 1 1 0 0 1 0 1 1 1 0 0 1 0 1\n",
            " 0 1 0 1 1 0 1 0 1 1 0 1 1 1 1 1 0 1 1 1 1 0 1 1 0 1 1 0 0 0 1 1 0 1 0 1 1\n",
            " 1 1 0 0 1 1 1 1 1 1 1 1 1 1 1 0 1 1 0 1 1 0 1 1 1 1 0 0 1 1 1 1 1 1 1 1 1\n",
            " 0 0 1 0 1 1 1 1 0 0 1 0 1 1 1 1 1 1 1 1 1 1 1 1 1 1 0 1 1 1 0 1 1 1 0 0 1\n",
            " 0 1 1 0 0 1 0 0 1 1 1 0 1 1 1 1 1 1 1 1 1 0 1 1 1 1 1 1 0 1 0 0 1 1 1 1 1\n",
            " 1 0 1 1 1 1 1 0 1 0 0 1 0 1 1 1 0 0 1 1 0 0 1 1 1 1 1 1 1 1 1 0 1 1 1 1 1\n",
            " 1 1 1 0 0 1 0 1 1 0 1 1 0 1 1 1 1 1 1 0 0 0 1 1 1 0 1 1 1 1 0 1 1 1 1 1 1\n",
            " 1 1 1 1 1 1 0 1 0 0 0 1 1 1 1 1 1 1 1 1 1 1 1 1 1 1 1 1 1 1 1 0 1 0 1 1 0\n",
            " 1 1 1 1 0 1 0 1 1 1 1 1 1 1 1 0 0 0 1 1 1 1 1 1 1 0 1 1 0 1 0 1 1 1 1 0 1\n",
            " 1 1 1 1 1 1 0 1 0 1 1 1 1 1 0 1 1 0 1 1 1 1 1 1 1 0 1 1 1 0 1 1 1 0 1 0 1\n",
            " 1]\n"
          ]
        }
      ],
      "source": [
        "# 練習1 コインを1度投げて裏が出る事象を0、表が出る事象を1として、1000回の試行を行った結果を出力する。\n",
        "# コインにはゆがみがあり、裏表が出る確率は1/2ではないと仮定し、任意の確率で表裏が決まるとする。\n",
        "# Exercise 1 Output the results of 1000 trials of flipping a coin once, where 0 is an event that results in a flip and 1 is an event that results in a face.\n",
        "# Assume that the coin is distorted and that the probability of a flip or a face is not 1/2, and that an arbitrary probability determines the obverse and the reverse.\n",
        "num_trial2 = 1000\n",
        "coin = [0, 1]\n",
        "prob = [25 / 100, 75 / 100]\n",
        "y = np.random.choice(coin, p=prob, size=num_trial2)\n",
        "print(y)"
      ]
    },
    {
      "cell_type": "code",
      "execution_count": 23,
      "metadata": {
        "colab": {
          "base_uri": "https://localhost:8080/",
          "height": 112
        },
        "id": "26yYFPsXR4_s",
        "outputId": "ae651abb-c5a5-4f22-cdeb-1a88364ecb7d"
      },
      "outputs": [
        {
          "output_type": "execute_result",
          "data": {
            "text/plain": [
              "    度数  相対度数\n",
              "0  230  0.23\n",
              "1  770  0.77"
            ],
            "text/html": [
              "\n",
              "  <div id=\"df-4c5877e2-f690-4eac-86ec-1f7285c2ed72\" class=\"colab-df-container\">\n",
              "    <div>\n",
              "<style scoped>\n",
              "    .dataframe tbody tr th:only-of-type {\n",
              "        vertical-align: middle;\n",
              "    }\n",
              "\n",
              "    .dataframe tbody tr th {\n",
              "        vertical-align: top;\n",
              "    }\n",
              "\n",
              "    .dataframe thead th {\n",
              "        text-align: right;\n",
              "    }\n",
              "</style>\n",
              "<table border=\"1\" class=\"dataframe\">\n",
              "  <thead>\n",
              "    <tr style=\"text-align: right;\">\n",
              "      <th></th>\n",
              "      <th>度数</th>\n",
              "      <th>相対度数</th>\n",
              "    </tr>\n",
              "  </thead>\n",
              "  <tbody>\n",
              "    <tr>\n",
              "      <th>0</th>\n",
              "      <td>230</td>\n",
              "      <td>0.23</td>\n",
              "    </tr>\n",
              "    <tr>\n",
              "      <th>1</th>\n",
              "      <td>770</td>\n",
              "      <td>0.77</td>\n",
              "    </tr>\n",
              "  </tbody>\n",
              "</table>\n",
              "</div>\n",
              "    <div class=\"colab-df-buttons\">\n",
              "\n",
              "  <div class=\"colab-df-container\">\n",
              "    <button class=\"colab-df-convert\" onclick=\"convertToInteractive('df-4c5877e2-f690-4eac-86ec-1f7285c2ed72')\"\n",
              "            title=\"Convert this dataframe to an interactive table.\"\n",
              "            style=\"display:none;\">\n",
              "\n",
              "  <svg xmlns=\"http://www.w3.org/2000/svg\" height=\"24px\" viewBox=\"0 -960 960 960\">\n",
              "    <path d=\"M120-120v-720h720v720H120Zm60-500h600v-160H180v160Zm220 220h160v-160H400v160Zm0 220h160v-160H400v160ZM180-400h160v-160H180v160Zm440 0h160v-160H620v160ZM180-180h160v-160H180v160Zm440 0h160v-160H620v160Z\"/>\n",
              "  </svg>\n",
              "    </button>\n",
              "\n",
              "  <style>\n",
              "    .colab-df-container {\n",
              "      display:flex;\n",
              "      gap: 12px;\n",
              "    }\n",
              "\n",
              "    .colab-df-convert {\n",
              "      background-color: #E8F0FE;\n",
              "      border: none;\n",
              "      border-radius: 50%;\n",
              "      cursor: pointer;\n",
              "      display: none;\n",
              "      fill: #1967D2;\n",
              "      height: 32px;\n",
              "      padding: 0 0 0 0;\n",
              "      width: 32px;\n",
              "    }\n",
              "\n",
              "    .colab-df-convert:hover {\n",
              "      background-color: #E2EBFA;\n",
              "      box-shadow: 0px 1px 2px rgba(60, 64, 67, 0.3), 0px 1px 3px 1px rgba(60, 64, 67, 0.15);\n",
              "      fill: #174EA6;\n",
              "    }\n",
              "\n",
              "    .colab-df-buttons div {\n",
              "      margin-bottom: 4px;\n",
              "    }\n",
              "\n",
              "    [theme=dark] .colab-df-convert {\n",
              "      background-color: #3B4455;\n",
              "      fill: #D2E3FC;\n",
              "    }\n",
              "\n",
              "    [theme=dark] .colab-df-convert:hover {\n",
              "      background-color: #434B5C;\n",
              "      box-shadow: 0px 1px 3px 1px rgba(0, 0, 0, 0.15);\n",
              "      filter: drop-shadow(0px 1px 2px rgba(0, 0, 0, 0.3));\n",
              "      fill: #FFFFFF;\n",
              "    }\n",
              "  </style>\n",
              "\n",
              "    <script>\n",
              "      const buttonEl =\n",
              "        document.querySelector('#df-4c5877e2-f690-4eac-86ec-1f7285c2ed72 button.colab-df-convert');\n",
              "      buttonEl.style.display =\n",
              "        google.colab.kernel.accessAllowed ? 'block' : 'none';\n",
              "\n",
              "      async function convertToInteractive(key) {\n",
              "        const element = document.querySelector('#df-4c5877e2-f690-4eac-86ec-1f7285c2ed72');\n",
              "        const dataTable =\n",
              "          await google.colab.kernel.invokeFunction('convertToInteractive',\n",
              "                                                    [key], {});\n",
              "        if (!dataTable) return;\n",
              "\n",
              "        const docLinkHtml = 'Like what you see? Visit the ' +\n",
              "          '<a target=\"_blank\" href=https://colab.research.google.com/notebooks/data_table.ipynb>data table notebook</a>'\n",
              "          + ' to learn more about interactive tables.';\n",
              "        element.innerHTML = '';\n",
              "        dataTable['output_type'] = 'display_data';\n",
              "        await google.colab.output.renderOutput(dataTable, element);\n",
              "        const docLink = document.createElement('div');\n",
              "        docLink.innerHTML = docLinkHtml;\n",
              "        element.appendChild(docLink);\n",
              "      }\n",
              "    </script>\n",
              "  </div>\n",
              "\n",
              "\n",
              "    <div id=\"df-e3d57348-f614-4d29-8875-bb07b5f38457\">\n",
              "      <button class=\"colab-df-quickchart\" onclick=\"quickchart('df-e3d57348-f614-4d29-8875-bb07b5f38457')\"\n",
              "                title=\"Suggest charts\"\n",
              "                style=\"display:none;\">\n",
              "\n",
              "<svg xmlns=\"http://www.w3.org/2000/svg\" height=\"24px\"viewBox=\"0 0 24 24\"\n",
              "     width=\"24px\">\n",
              "    <g>\n",
              "        <path d=\"M19 3H5c-1.1 0-2 .9-2 2v14c0 1.1.9 2 2 2h14c1.1 0 2-.9 2-2V5c0-1.1-.9-2-2-2zM9 17H7v-7h2v7zm4 0h-2V7h2v10zm4 0h-2v-4h2v4z\"/>\n",
              "    </g>\n",
              "</svg>\n",
              "      </button>\n",
              "\n",
              "<style>\n",
              "  .colab-df-quickchart {\n",
              "      --bg-color: #E8F0FE;\n",
              "      --fill-color: #1967D2;\n",
              "      --hover-bg-color: #E2EBFA;\n",
              "      --hover-fill-color: #174EA6;\n",
              "      --disabled-fill-color: #AAA;\n",
              "      --disabled-bg-color: #DDD;\n",
              "  }\n",
              "\n",
              "  [theme=dark] .colab-df-quickchart {\n",
              "      --bg-color: #3B4455;\n",
              "      --fill-color: #D2E3FC;\n",
              "      --hover-bg-color: #434B5C;\n",
              "      --hover-fill-color: #FFFFFF;\n",
              "      --disabled-bg-color: #3B4455;\n",
              "      --disabled-fill-color: #666;\n",
              "  }\n",
              "\n",
              "  .colab-df-quickchart {\n",
              "    background-color: var(--bg-color);\n",
              "    border: none;\n",
              "    border-radius: 50%;\n",
              "    cursor: pointer;\n",
              "    display: none;\n",
              "    fill: var(--fill-color);\n",
              "    height: 32px;\n",
              "    padding: 0;\n",
              "    width: 32px;\n",
              "  }\n",
              "\n",
              "  .colab-df-quickchart:hover {\n",
              "    background-color: var(--hover-bg-color);\n",
              "    box-shadow: 0 1px 2px rgba(60, 64, 67, 0.3), 0 1px 3px 1px rgba(60, 64, 67, 0.15);\n",
              "    fill: var(--button-hover-fill-color);\n",
              "  }\n",
              "\n",
              "  .colab-df-quickchart-complete:disabled,\n",
              "  .colab-df-quickchart-complete:disabled:hover {\n",
              "    background-color: var(--disabled-bg-color);\n",
              "    fill: var(--disabled-fill-color);\n",
              "    box-shadow: none;\n",
              "  }\n",
              "\n",
              "  .colab-df-spinner {\n",
              "    border: 2px solid var(--fill-color);\n",
              "    border-color: transparent;\n",
              "    border-bottom-color: var(--fill-color);\n",
              "    animation:\n",
              "      spin 1s steps(1) infinite;\n",
              "  }\n",
              "\n",
              "  @keyframes spin {\n",
              "    0% {\n",
              "      border-color: transparent;\n",
              "      border-bottom-color: var(--fill-color);\n",
              "      border-left-color: var(--fill-color);\n",
              "    }\n",
              "    20% {\n",
              "      border-color: transparent;\n",
              "      border-left-color: var(--fill-color);\n",
              "      border-top-color: var(--fill-color);\n",
              "    }\n",
              "    30% {\n",
              "      border-color: transparent;\n",
              "      border-left-color: var(--fill-color);\n",
              "      border-top-color: var(--fill-color);\n",
              "      border-right-color: var(--fill-color);\n",
              "    }\n",
              "    40% {\n",
              "      border-color: transparent;\n",
              "      border-right-color: var(--fill-color);\n",
              "      border-top-color: var(--fill-color);\n",
              "    }\n",
              "    60% {\n",
              "      border-color: transparent;\n",
              "      border-right-color: var(--fill-color);\n",
              "    }\n",
              "    80% {\n",
              "      border-color: transparent;\n",
              "      border-right-color: var(--fill-color);\n",
              "      border-bottom-color: var(--fill-color);\n",
              "    }\n",
              "    90% {\n",
              "      border-color: transparent;\n",
              "      border-bottom-color: var(--fill-color);\n",
              "    }\n",
              "  }\n",
              "</style>\n",
              "\n",
              "      <script>\n",
              "        async function quickchart(key) {\n",
              "          const quickchartButtonEl =\n",
              "            document.querySelector('#' + key + ' button');\n",
              "          quickchartButtonEl.disabled = true;  // To prevent multiple clicks.\n",
              "          quickchartButtonEl.classList.add('colab-df-spinner');\n",
              "          try {\n",
              "            const charts = await google.colab.kernel.invokeFunction(\n",
              "                'suggestCharts', [key], {});\n",
              "          } catch (error) {\n",
              "            console.error('Error during call to suggestCharts:', error);\n",
              "          }\n",
              "          quickchartButtonEl.classList.remove('colab-df-spinner');\n",
              "          quickchartButtonEl.classList.add('colab-df-quickchart-complete');\n",
              "        }\n",
              "        (() => {\n",
              "          let quickchartButtonEl =\n",
              "            document.querySelector('#df-e3d57348-f614-4d29-8875-bb07b5f38457 button');\n",
              "          quickchartButtonEl.style.display =\n",
              "            google.colab.kernel.accessAllowed ? 'block' : 'none';\n",
              "        })();\n",
              "      </script>\n",
              "    </div>\n",
              "\n",
              "    </div>\n",
              "  </div>\n"
            ],
            "application/vnd.google.colaboratory.intrinsic+json": {
              "type": "dataframe",
              "summary": "{\n  \"name\": \"pd\",\n  \"rows\": 2,\n  \"fields\": [\n    {\n      \"column\": \"\\u5ea6\\u6570\",\n      \"properties\": {\n        \"dtype\": \"number\",\n        \"std\": 381,\n        \"min\": 230,\n        \"max\": 770,\n        \"num_unique_values\": 2,\n        \"samples\": [\n          770,\n          230\n        ],\n        \"semantic_type\": \"\",\n        \"description\": \"\"\n      }\n    },\n    {\n      \"column\": \"\\u76f8\\u5bfe\\u5ea6\\u6570\",\n      \"properties\": {\n        \"dtype\": \"number\",\n        \"std\": 0.3818376618407357,\n        \"min\": 0.23,\n        \"max\": 0.77,\n        \"num_unique_values\": 2,\n        \"samples\": [\n          0.77,\n          0.23\n        ],\n        \"semantic_type\": \"\",\n        \"description\": \"\"\n      }\n    }\n  ]\n}"
            }
          },
          "metadata": {},
          "execution_count": 23
        }
      ],
      "source": [
        "# 練習2 コインの裏表の度数分布表を作成する。度数分布表には相対度数を加える。\n",
        "# Exercise 2 Create a frequency distribution table for the obverse and reverse sides of a coin. Add relative frequencies to the frequency distribution table.\n",
        "bins = np.arange(0, 3, 1)\n",
        "freq, hist = np.histogram(y, bins=bins)\n",
        "pd.DataFrame({\"度数\": freq, \"相対度数\": freq / num_trial2}, index=np.arange(0, 2))"
      ]
    },
    {
      "cell_type": "code",
      "execution_count": 24,
      "metadata": {
        "colab": {
          "base_uri": "https://localhost:8080/",
          "height": 467
        },
        "id": "tKf8LXXkR4_s",
        "outputId": "7a30e091-95f2-46c8-ec31-429672739179"
      },
      "outputs": [
        {
          "output_type": "execute_result",
          "data": {
            "text/plain": [
              "Text(0.5, 0, '表裏')"
            ]
          },
          "metadata": {},
          "execution_count": 24
        },
        {
          "output_type": "display_data",
          "data": {
            "text/plain": [
              "<Figure size 640x480 with 1 Axes>"
            ],
            "image/png": "[encoded data removed]"
          },
          "metadata": {}
        }
      ],
      "source": [
        "# 練習3 コインの裏表のヒストグラムを図示し、練習1で設定した確率と比較する。ヒストグラムは相対度数で作成する。\n",
        "# Exercise 3 Illustrate a histogram of the obverse and reverse sides of a coin and compare it to the probabilities assigned in Exercise 1.\n",
        "# The histograms should be made in relative frequencies.\n",
        "plt.hist(y, bins=bins, density=True)\n",
        "plt.hlines(prob, np.arange(0, 2), np.arange(1, 3), colors=\"r\")\n",
        "plt.ylabel(\"相対度数\")\n",
        "plt.xlabel(\"表裏\")"
      ]
    },
    {
      "cell_type": "markdown",
      "metadata": {
        "id": "ZorUYUUxR4_s"
      },
      "source": [
        "### 2つのサイコロを一度振り、出た目を合計する試行"
      ]
    },
    {
      "cell_type": "markdown",
      "metadata": {
        "id": "zS5ZpuA3R4_s"
      },
      "source": [
        "### Trial to roll the two dice once and sum the rolls."
      ]
    },
    {
      "cell_type": "code",
      "execution_count": 25,
      "metadata": {
        "colab": {
          "base_uri": "https://localhost:8080/"
        },
        "id": "qNXOQQXRR4_s",
        "outputId": "96983b29-6a3d-4b6d-ef9b-9d2edb771c7e"
      },
      "outputs": [
        {
          "output_type": "stream",
          "name": "stdout",
          "text": [
            "[9 7 5 ... 7 8 7]\n"
          ]
        }
      ],
      "source": [
        "# 練習4 ２つのサイコロを一度振り、その和を計算する試行を1000回行った結果を出力する。\n",
        "# Exercise 4 Output the results of 1000 trials of rolling two dice once and calculating their sum.\n",
        "num_trial3 = 50000\n",
        "dice = [1, 2, 3, 4, 5, 6]\n",
        "prob = [1 / 6, 1 / 6, 1 / 6, 1 / 6, 1 / 6, 1 / 6]\n",
        "z1 = np.random.choice(dice, p=prob, size=num_trial3)\n",
        "z2 = np.random.choice(dice, p=prob, size=num_trial3)\n",
        "z = z1 + z2\n",
        "print(z)"
      ]
    },
    {
      "cell_type": "code",
      "execution_count": 26,
      "metadata": {
        "colab": {
          "base_uri": "https://localhost:8080/",
          "height": 394
        },
        "id": "d4zY2vgWR4_s",
        "outputId": "4dd4f5f9-8fc5-4a43-f725-fd2aae74d1a8"
      },
      "outputs": [
        {
          "output_type": "execute_result",
          "data": {
            "text/plain": [
              "      度数     相対度数\n",
              "2   1381  0.02762\n",
              "3   2850  0.05700\n",
              "4   4155  0.08310\n",
              "5   5634  0.11268\n",
              "6   6942  0.13884\n",
              "7   8424  0.16848\n",
              "8   6995  0.13990\n",
              "9   5394  0.10788\n",
              "10  4153  0.08306\n",
              "11  2689  0.05378\n",
              "12  1383  0.02766"
            ],
            "text/html": [
              "\n",
              "  <div id=\"df-0eb787db-7fee-435d-aead-061965b1cd6b\" class=\"colab-df-container\">\n",
              "    <div>\n",
              "<style scoped>\n",
              "    .dataframe tbody tr th:only-of-type {\n",
              "        vertical-align: middle;\n",
              "    }\n",
              "\n",
              "    .dataframe tbody tr th {\n",
              "        vertical-align: top;\n",
              "    }\n",
              "\n",
              "    .dataframe thead th {\n",
              "        text-align: right;\n",
              "    }\n",
              "</style>\n",
              "<table border=\"1\" class=\"dataframe\">\n",
              "  <thead>\n",
              "    <tr style=\"text-align: right;\">\n",
              "      <th></th>\n",
              "      <th>度数</th>\n",
              "      <th>相対度数</th>\n",
              "    </tr>\n",
              "  </thead>\n",
              "  <tbody>\n",
              "    <tr>\n",
              "      <th>2</th>\n",
              "      <td>1381</td>\n",
              "      <td>0.02762</td>\n",
              "    </tr>\n",
              "    <tr>\n",
              "      <th>3</th>\n",
              "      <td>2850</td>\n",
              "      <td>0.05700</td>\n",
              "    </tr>\n",
              "    <tr>\n",
              "      <th>4</th>\n",
              "      <td>4155</td>\n",
              "      <td>0.08310</td>\n",
              "    </tr>\n",
              "    <tr>\n",
              "      <th>5</th>\n",
              "      <td>5634</td>\n",
              "      <td>0.11268</td>\n",
              "    </tr>\n",
              "    <tr>\n",
              "      <th>6</th>\n",
              "      <td>6942</td>\n",
              "      <td>0.13884</td>\n",
              "    </tr>\n",
              "    <tr>\n",
              "      <th>7</th>\n",
              "      <td>8424</td>\n",
              "      <td>0.16848</td>\n",
              "    </tr>\n",
              "    <tr>\n",
              "      <th>8</th>\n",
              "      <td>6995</td>\n",
              "      <td>0.13990</td>\n",
              "    </tr>\n",
              "    <tr>\n",
              "      <th>9</th>\n",
              "      <td>5394</td>\n",
              "      <td>0.10788</td>\n",
              "    </tr>\n",
              "    <tr>\n",
              "      <th>10</th>\n",
              "      <td>4153</td>\n",
              "      <td>0.08306</td>\n",
              "    </tr>\n",
              "    <tr>\n",
              "      <th>11</th>\n",
              "      <td>2689</td>\n",
              "      <td>0.05378</td>\n",
              "    </tr>\n",
              "    <tr>\n",
              "      <th>12</th>\n",
              "      <td>1383</td>\n",
              "      <td>0.02766</td>\n",
              "    </tr>\n",
              "  </tbody>\n",
              "</table>\n",
              "</div>\n",
              "    <div class=\"colab-df-buttons\">\n",
              "\n",
              "  <div class=\"colab-df-container\">\n",
              "    <button class=\"colab-df-convert\" onclick=\"convertToInteractive('df-0eb787db-7fee-435d-aead-061965b1cd6b')\"\n",
              "            title=\"Convert this dataframe to an interactive table.\"\n",
              "            style=\"display:none;\">\n",
              "\n",
              "  <svg xmlns=\"http://www.w3.org/2000/svg\" height=\"24px\" viewBox=\"0 -960 960 960\">\n",
              "    <path d=\"M120-120v-720h720v720H120Zm60-500h600v-160H180v160Zm220 220h160v-160H400v160Zm0 220h160v-160H400v160ZM180-400h160v-160H180v160Zm440 0h160v-160H620v160ZM180-180h160v-160H180v160Zm440 0h160v-160H620v160Z\"/>\n",
              "  </svg>\n",
              "    </button>\n",
              "\n",
              "  <style>\n",
              "    .colab-df-container {\n",
              "      display:flex;\n",
              "      gap: 12px;\n",
              "    }\n",
              "\n",
              "    .colab-df-convert {\n",
              "      background-color: #E8F0FE;\n",
              "      border: none;\n",
              "      border-radius: 50%;\n",
              "      cursor: pointer;\n",
              "      display: none;\n",
              "      fill: #1967D2;\n",
              "      height: 32px;\n",
              "      padding: 0 0 0 0;\n",
              "      width: 32px;\n",
              "    }\n",
              "\n",
              "    .colab-df-convert:hover {\n",
              "      background-color: #E2EBFA;\n",
              "      box-shadow: 0px 1px 2px rgba(60, 64, 67, 0.3), 0px 1px 3px 1px rgba(60, 64, 67, 0.15);\n",
              "      fill: #174EA6;\n",
              "    }\n",
              "\n",
              "    .colab-df-buttons div {\n",
              "      margin-bottom: 4px;\n",
              "    }\n",
              "\n",
              "    [theme=dark] .colab-df-convert {\n",
              "      background-color: #3B4455;\n",
              "      fill: #D2E3FC;\n",
              "    }\n",
              "\n",
              "    [theme=dark] .colab-df-convert:hover {\n",
              "      background-color: #434B5C;\n",
              "      box-shadow: 0px 1px 3px 1px rgba(0, 0, 0, 0.15);\n",
              "      filter: drop-shadow(0px 1px 2px rgba(0, 0, 0, 0.3));\n",
              "      fill: #FFFFFF;\n",
              "    }\n",
              "  </style>\n",
              "\n",
              "    <script>\n",
              "      const buttonEl =\n",
              "        document.querySelector('#df-0eb787db-7fee-435d-aead-061965b1cd6b button.colab-df-convert');\n",
              "      buttonEl.style.display =\n",
              "        google.colab.kernel.accessAllowed ? 'block' : 'none';\n",
              "\n",
              "      async function convertToInteractive(key) {\n",
              "        const element = document.querySelector('#df-0eb787db-7fee-435d-aead-061965b1cd6b');\n",
              "        const dataTable =\n",
              "          await google.colab.kernel.invokeFunction('convertToInteractive',\n",
              "                                                    [key], {});\n",
              "        if (!dataTable) return;\n",
              "\n",
              "        const docLinkHtml = 'Like what you see? Visit the ' +\n",
              "          '<a target=\"_blank\" href=https://colab.research.google.com/notebooks/data_table.ipynb>data table notebook</a>'\n",
              "          + ' to learn more about interactive tables.';\n",
              "        element.innerHTML = '';\n",
              "        dataTable['output_type'] = 'display_data';\n",
              "        await google.colab.output.renderOutput(dataTable, element);\n",
              "        const docLink = document.createElement('div');\n",
              "        docLink.innerHTML = docLinkHtml;\n",
              "        element.appendChild(docLink);\n",
              "      }\n",
              "    </script>\n",
              "  </div>\n",
              "\n",
              "\n",
              "    <div id=\"df-7a9d5528-bd96-452d-a013-55e4bedd4875\">\n",
              "      <button class=\"colab-df-quickchart\" onclick=\"quickchart('df-7a9d5528-bd96-452d-a013-55e4bedd4875')\"\n",
              "                title=\"Suggest charts\"\n",
              "                style=\"display:none;\">\n",
              "\n",
              "<svg xmlns=\"http://www.w3.org/2000/svg\" height=\"24px\"viewBox=\"0 0 24 24\"\n",
              "     width=\"24px\">\n",
              "    <g>\n",
              "        <path d=\"M19 3H5c-1.1 0-2 .9-2 2v14c0 1.1.9 2 2 2h14c1.1 0 2-.9 2-2V5c0-1.1-.9-2-2-2zM9 17H7v-7h2v7zm4 0h-2V7h2v10zm4 0h-2v-4h2v4z\"/>\n",
              "    </g>\n",
              "</svg>\n",
              "      </button>\n",
              "\n",
              "<style>\n",
              "  .colab-df-quickchart {\n",
              "      --bg-color: #E8F0FE;\n",
              "      --fill-color: #1967D2;\n",
              "      --hover-bg-color: #E2EBFA;\n",
              "      --hover-fill-color: #174EA6;\n",
              "      --disabled-fill-color: #AAA;\n",
              "      --disabled-bg-color: #DDD;\n",
              "  }\n",
              "\n",
              "  [theme=dark] .colab-df-quickchart {\n",
              "      --bg-color: #3B4455;\n",
              "      --fill-color: #D2E3FC;\n",
              "      --hover-bg-color: #434B5C;\n",
              "      --hover-fill-color: #FFFFFF;\n",
              "      --disabled-bg-color: #3B4455;\n",
              "      --disabled-fill-color: #666;\n",
              "  }\n",
              "\n",
              "  .colab-df-quickchart {\n",
              "    background-color: var(--bg-color);\n",
              "    border: none;\n",
              "    border-radius: 50%;\n",
              "    cursor: pointer;\n",
              "    display: none;\n",
              "    fill: var(--fill-color);\n",
              "    height: 32px;\n",
              "    padding: 0;\n",
              "    width: 32px;\n",
              "  }\n",
              "\n",
              "  .colab-df-quickchart:hover {\n",
              "    background-color: var(--hover-bg-color);\n",
              "    box-shadow: 0 1px 2px rgba(60, 64, 67, 0.3), 0 1px 3px 1px rgba(60, 64, 67, 0.15);\n",
              "    fill: var(--button-hover-fill-color);\n",
              "  }\n",
              "\n",
              "  .colab-df-quickchart-complete:disabled,\n",
              "  .colab-df-quickchart-complete:disabled:hover {\n",
              "    background-color: var(--disabled-bg-color);\n",
              "    fill: var(--disabled-fill-color);\n",
              "    box-shadow: none;\n",
              "  }\n",
              "\n",
              "  .colab-df-spinner {\n",
              "    border: 2px solid var(--fill-color);\n",
              "    border-color: transparent;\n",
              "    border-bottom-color: var(--fill-color);\n",
              "    animation:\n",
              "      spin 1s steps(1) infinite;\n",
              "  }\n",
              "\n",
              "  @keyframes spin {\n",
              "    0% {\n",
              "      border-color: transparent;\n",
              "      border-bottom-color: var(--fill-color);\n",
              "      border-left-color: var(--fill-color);\n",
              "    }\n",
              "    20% {\n",
              "      border-color: transparent;\n",
              "      border-left-color: var(--fill-color);\n",
              "      border-top-color: var(--fill-color);\n",
              "    }\n",
              "    30% {\n",
              "      border-color: transparent;\n",
              "      border-left-color: var(--fill-color);\n",
              "      border-top-color: var(--fill-color);\n",
              "      border-right-color: var(--fill-color);\n",
              "    }\n",
              "    40% {\n",
              "      border-color: transparent;\n",
              "      border-right-color: var(--fill-color);\n",
              "      border-top-color: var(--fill-color);\n",
              "    }\n",
              "    60% {\n",
              "      border-color: transparent;\n",
              "      border-right-color: var(--fill-color);\n",
              "    }\n",
              "    80% {\n",
              "      border-color: transparent;\n",
              "      border-right-color: var(--fill-color);\n",
              "      border-bottom-color: var(--fill-color);\n",
              "    }\n",
              "    90% {\n",
              "      border-color: transparent;\n",
              "      border-bottom-color: var(--fill-color);\n",
              "    }\n",
              "  }\n",
              "</style>\n",
              "\n",
              "      <script>\n",
              "        async function quickchart(key) {\n",
              "          const quickchartButtonEl =\n",
              "            document.querySelector('#' + key + ' button');\n",
              "          quickchartButtonEl.disabled = true;  // To prevent multiple clicks.\n",
              "          quickchartButtonEl.classList.add('colab-df-spinner');\n",
              "          try {\n",
              "            const charts = await google.colab.kernel.invokeFunction(\n",
              "                'suggestCharts', [key], {});\n",
              "          } catch (error) {\n",
              "            console.error('Error during call to suggestCharts:', error);\n",
              "          }\n",
              "          quickchartButtonEl.classList.remove('colab-df-spinner');\n",
              "          quickchartButtonEl.classList.add('colab-df-quickchart-complete');\n",
              "        }\n",
              "        (() => {\n",
              "          let quickchartButtonEl =\n",
              "            document.querySelector('#df-7a9d5528-bd96-452d-a013-55e4bedd4875 button');\n",
              "          quickchartButtonEl.style.display =\n",
              "            google.colab.kernel.accessAllowed ? 'block' : 'none';\n",
              "        })();\n",
              "      </script>\n",
              "    </div>\n",
              "\n",
              "    </div>\n",
              "  </div>\n"
            ],
            "application/vnd.google.colaboratory.intrinsic+json": {
              "type": "dataframe",
              "summary": "{\n  \"name\": \"pd\",\n  \"rows\": 11,\n  \"fields\": [\n    {\n      \"column\": \"\\u5ea6\\u6570\",\n      \"properties\": {\n        \"dtype\": \"number\",\n        \"std\": 2352,\n        \"min\": 1381,\n        \"max\": 8424,\n        \"num_unique_values\": 11,\n        \"samples\": [\n          8424,\n          1381,\n          2689\n        ],\n        \"semantic_type\": \"\",\n        \"description\": \"\"\n      }\n    },\n    {\n      \"column\": \"\\u76f8\\u5bfe\\u5ea6\\u6570\",\n      \"properties\": {\n        \"dtype\": \"number\",\n        \"std\": 0.04704641738847825,\n        \"min\": 0.02762,\n        \"max\": 0.16848,\n        \"num_unique_values\": 11,\n        \"samples\": [\n          0.16848,\n          0.02762,\n          0.05378\n        ],\n        \"semantic_type\": \"\",\n        \"description\": \"\"\n      }\n    }\n  ]\n}"
            }
          },
          "metadata": {},
          "execution_count": 26
        }
      ],
      "source": [
        "# 練習5 2つのサイコロの和の度数分布表を作成する。度数分布表には相対度数を加える。\n",
        "# Exercise 5 Create a frequency distribution table for the sum of two dice. Add relative frequencies to the frequency distribution table.\n",
        "bins = np.arange(2, 14, 1)\n",
        "freq, hist = np.histogram(z, bins=bins)\n",
        "pd.DataFrame({\"度数\": freq, \"相対度数\": freq / num_trial3}, index=np.arange(2, 13))"
      ]
    },
    {
      "cell_type": "code",
      "execution_count": 27,
      "metadata": {
        "colab": {
          "base_uri": "https://localhost:8080/",
          "height": 465
        },
        "id": "FucvSvTBR4_t",
        "outputId": "e23a8f0a-e959-4623-c9ed-e13843424f60"
      },
      "outputs": [
        {
          "output_type": "execute_result",
          "data": {
            "text/plain": [
              "Text(0.5, 0, '出目の和')"
            ]
          },
          "metadata": {},
          "execution_count": 27
        },
        {
          "output_type": "display_data",
          "data": {
            "text/plain": [
              "<Figure size 640x480 with 1 Axes>"
            ],
            "image/png": "[encoded data removed]"
          },
          "metadata": {}
        }
      ],
      "source": [
        "# 練習6 サイコロの目の和のヒストグラムを図示する。ヒストグラムは相対度数で作成する。\n",
        "# Exercise 6 Illustrate a histogram of the sum of the dice rolls. The histogram should be made in relative frequencies.\n",
        "plt.hist(z, bins=bins, density=True)\n",
        "plt.ylabel(\"相対度数\")\n",
        "plt.xlabel(\"出目の和\")"
      ]
    },
    {
      "cell_type": "markdown",
      "source": [
        "## モンティ・ホール問題"
      ],
      "metadata": {
        "id": "3DpH7FHjTqFx"
      }
    },
    {
      "cell_type": "markdown",
      "source": [
        "## Monty Hall problem"
      ],
      "metadata": {
        "id": "0gy4bVKqTsny"
      }
    },
    {
      "cell_type": "markdown",
      "source": [
        "モンティ・ホール問題（モンティ・ホールもんだい、英: Monty Hall problem）とは、確率論の問題で、ベイズの定理における事後確率、あるいは主観確率の例題の一つとなっている。モンティ・ホール（Monty Hall, 本名：Monte Halperin）が司会者を務めるアメリカのゲームショー番組、「Let's make a deal」の中で行われたゲームに関する論争に由来する。一種の心理トリックになっており、確率論から導かれる結果を説明されても、なお納得しない者が少なくないことから、モンティ・ホール・ジレンマ、モンティ・ホール・パラドックスとも称される。「直感で正しいと思える解答と、論理的に正しい解答が異なる問題」の適例とされる。\n",
        "\n",
        "プレーヤーの前に閉じた3つのドアがあって、1つのドアの後ろには景品の新車が、2つのドアの後ろには、はずれを意味するヤギがいる。プレーヤーは新車のドアを当てると新車がもらえる。プレーヤーが1つのドアを選択した後、司会のモンティが残りのドアのうちヤギがいるドアを開けてヤギを見せる。\n",
        "\n",
        "ここでプレーヤーは、最初に選んだドアを、残っている開けられていないドアに変更してもよいと言われる。\n",
        "ここでプレーヤーはドアを変更すべきだろうか？\n",
        "（Wikipediaより）"
      ],
      "metadata": {
        "id": "D98V2BsTTude"
      }
    },
    {
      "cell_type": "markdown",
      "source": [
        "The Monty Hall problem is a brain teaser, in the form of a probability puzzle, based nominally on the American television game show Let's Make a Deal and named after its original host, Monty Hall. The problem was originally posed (and solved) in a letter by Steve Selvin to the American Statistician in 1975. It became famous as a question from reader Craig F. Whitaker's letter quoted in Marilyn vos Savant's \"Ask Marilyn\" column in Parade magazine in 1990:\n",
        "\n",
        "Suppose you're on a game show, and you're given the choice of three doors: Behind one door is a car; behind the others, goats. You pick a door, say No. 1, and the host, who knows what's behind the doors, opens another door, say No. 3, which has a goat. He then says to you, \"Do you want to pick door No. 2?\" Is it to your advantage to switch your choice?\n",
        "\n",
        "(from Wikipedia)"
      ],
      "metadata": {
        "id": "0T3xw1B0Twcc"
      }
    },
    {
      "cell_type": "code",
      "source": [
        "# モンティ・ホール問題を実行する（変更しない）\n",
        "# Run the Monty Hall issue (do not change)\n",
        "def monty_hall_example(choice_ini, change):\n",
        "    choice = [\"A\", \"B\", \"C\"]\n",
        "    ans = np.random.choice(choice)\n",
        "    #choice_ini = \"A\"\n",
        "\n",
        "    # 挑戦者が選んだ扉と正解の扉を覗いた選択肢からモンティ・ホールが1つの扉を選ぶ\n",
        "    choice_mh_list = [item for item in choice if item != choice_ini and item != ans]\n",
        "    choice_mh = np.random.choice(choice_mh_list)\n",
        "\n",
        "    # 選んだ扉を変更する or しない\n",
        "    if change == \"Yes\":\n",
        "        choice_new_list = [\n",
        "            item for item in choice if item != choice_ini and item != choice_mh\n",
        "        ]\n",
        "        choice_new = choice_new_list[0]\n",
        "    else:\n",
        "        choice_new = choice_ini\n",
        "\n",
        "    if ans == choice_new:\n",
        "        result = \"正解！(Win!)\"\n",
        "    else:\n",
        "        result = \"不正解！(Lose!)\"\n",
        "\n",
        "    print(f\"最初に選んだ扉：{choice_ini}\")\n",
        "    print(f\"モンティ・ホールが選んだ扉：{choice_mh}\")\n",
        "    print(f\"扉を変更するか否か：{change}\")\n",
        "    print(f\"最終的に選んだ扉：{choice_new}\")\n",
        "    print(f\"正解の扉：{ans}\")\n",
        "    return result"
      ],
      "metadata": {
        "id": "TXVT_O03Tv2E"
      },
      "execution_count": 32,
      "outputs": []
    },
    {
      "cell_type": "code",
      "source": [
        "# 空の配列を作成する。\n",
        "# Create an empty list.\n",
        "result_all = []"
      ],
      "metadata": {
        "id": "vLaFU-xmTz-L"
      },
      "execution_count": 33,
      "outputs": []
    },
    {
      "cell_type": "code",
      "source": [
        "# 練習7 モンティ・ホール問題を実行する。`monty_hall_example({最初に選ぶ扉}, {モンティ・ホールの扉選択後に扉を変えるか否か})`を入力し、セルを実行すると結果が出力される。\n",
        "# 扉は\"A\",\"B\",\"C\"で指定する。扉を変えるか否かは\"Yes\",\"No\"で指定する。合計10回実行して、結果を確認する。\n",
        "# Exercise 1 Run the Monty Hall problem. Enter `monty_hall_example({the first door to choose}, {whether to change the door after choosing the door of Monty Hall})`\n",
        "# and run the cell to output the result.\n",
        "# The doors are specified by \"A\", \"B\", or \"C\". Whether or not to change the door is specified by \"Yes\" or \"No\". Execute a total of 10 times and check the results.\n",
        "print(f'{len(result_all)+1}回目')\n",
        "result = monty_hall_example(\"A\", \"No\")\n",
        "result_all.append(result)\n",
        "print(f\"今回の結果：{result}\")\n",
        "print(f\"これまでの結果：{result_all}\")"
      ],
      "metadata": {
        "colab": {
          "base_uri": "https://localhost:8080/"
        },
        "id": "O4yF3sHST1-I",
        "outputId": "20626c78-8341-4c40-891b-992d8d3519f4"
      },
      "execution_count": 34,
      "outputs": [
        {
          "output_type": "stream",
          "name": "stdout",
          "text": [
            "1回目\n",
            "最初に選んだ扉：A\n",
            "モンティ・ホールが選んだ扉：B\n",
            "扉を変更するか否か：No\n",
            "最終的に選んだ扉：A\n",
            "正解の扉：C\n",
            "今回の結果：不正解！(Lose!)\n",
            "これまでの結果：['不正解！(Lose!)']\n"
          ]
        }
      ]
    },
    {
      "cell_type": "code",
      "source": [
        "# モンティ・ホール問題を出力無しで実行する（変更しない）\n",
        "# Run the Monty Hall issue without outputs (do not change)\n",
        "def monty_hall(choice_ini, change):\n",
        "    choice = [\"A\", \"B\", \"C\"]\n",
        "    ans = np.random.choice(choice)\n",
        "    #choice_ini = \"A\"\n",
        "\n",
        "    # 挑戦者が選んだ扉と正解の扉を覗いた選択肢からモンティ・ホールが1つの扉を選ぶ\n",
        "    choice_mh_list = [item for item in choice if item != choice_ini and item != ans]\n",
        "    choice_mh = np.random.choice(choice_mh_list)\n",
        "\n",
        "    # 選んだ扉を変更する or しない\n",
        "    if change == \"Yes\":\n",
        "        choice_new_list = [\n",
        "            item for item in choice if item != choice_ini and item != choice_mh\n",
        "        ]\n",
        "        choice_new = choice_new_list[0]\n",
        "    else:\n",
        "        choice_new = choice_ini\n",
        "\n",
        "    if ans == choice_new:\n",
        "        result = 1\n",
        "    else:\n",
        "        result = 0\n",
        "    return result"
      ],
      "metadata": {
        "id": "e8UbvWhdT3bZ"
      },
      "execution_count": 35,
      "outputs": []
    },
    {
      "cell_type": "markdown",
      "source": [
        "ケース1 挑戦者は最初に扉Aを選び、モンティ・ホールの扉選択後に選ぶ扉を変える"
      ],
      "metadata": {
        "id": "RDKELvZGT55o"
      }
    },
    {
      "cell_type": "markdown",
      "source": [
        "Case 1: The contestant initially chooses Door A and switches to another door after Monty Hall reveals a door."
      ],
      "metadata": {
        "id": "MOeMauJ5T7p8"
      }
    },
    {
      "cell_type": "code",
      "source": [
        "# 最初に選ぶ扉をAとして、モンティ・ホールの扉の選択後に扉を変える試行を1000回行う。正解は1、不正解は0として出力される。\n",
        "# With A as the first door to be selected, 1000 attempts are made to change doors after Monty Hall has selected a door.\n",
        "# The output is 1 for a win and 0 for a lose.\n",
        "result_yes = []\n",
        "num_trial1 = 1000\n",
        "for i in range(0, num_trial1):\n",
        "    result_temp = monty_hall(\"A\", \"Yes\")\n",
        "    result_yes.append(result_temp)\n",
        "result_yes = np.array(result_yes)\n",
        "print(result_yes)"
      ],
      "metadata": {
        "colab": {
          "base_uri": "https://localhost:8080/"
        },
        "id": "UK7K9FazT5As",
        "outputId": "e1d1a8dd-d9b6-4de1-9c99-b41c66e0f510"
      },
      "execution_count": 36,
      "outputs": [
        {
          "output_type": "stream",
          "name": "stdout",
          "text": [
            "[0 0 1 1 0 1 1 1 0 1 1 0 1 1 1 1 1 1 0 0 1 1 1 0 1 0 1 0 1 1 1 1 1 1 1 0 1\n",
            " 1 0 1 0 1 0 1 1 1 1 0 1 1 1 1 0 1 0 1 0 0 1 1 1 0 0 0 1 0 1 0 0 1 0 1 0 0\n",
            " 0 0 1 0 0 1 1 1 1 1 1 0 0 1 1 1 1 1 1 1 1 1 0 1 1 1 0 1 0 1 1 1 1 0 0 0 0\n",
            " 0 1 0 0 1 1 1 1 1 1 0 1 1 0 0 1 1 1 1 0 1 1 0 1 0 1 1 1 0 0 0 0 1 0 1 1 0\n",
            " 1 1 1 0 1 0 1 1 1 0 1 0 0 1 0 1 1 1 1 1 1 1 1 1 0 0 0 1 1 1 0 1 0 0 1 1 0\n",
            " 0 0 0 1 1 1 1 1 0 0 1 0 1 1 0 0 1 1 0 1 1 1 0 1 1 0 1 1 1 1 1 1 1 1 0 0 1\n",
            " 1 0 0 0 0 1 1 1 1 1 1 0 1 0 1 1 0 1 1 1 1 1 1 1 1 1 0 0 0 0 1 0 1 1 1 1 1\n",
            " 1 1 0 1 1 0 1 1 0 1 0 1 0 1 1 0 0 1 0 1 0 0 1 1 0 0 0 1 1 1 1 0 1 0 1 1 1\n",
            " 0 1 1 0 1 1 1 0 0 1 1 1 1 1 1 0 1 0 1 0 0 1 1 1 0 1 1 0 1 1 1 0 1 1 0 1 1\n",
            " 1 1 1 1 0 0 1 1 1 1 1 1 1 1 1 1 0 1 1 1 1 1 1 0 1 1 1 0 0 0 1 1 1 0 1 0 1\n",
            " 0 1 1 1 1 1 0 1 0 1 0 0 1 0 0 0 1 1 1 1 1 1 1 1 0 1 0 1 0 1 1 1 1 1 1 1 0\n",
            " 0 1 1 0 1 1 1 0 0 0 1 1 1 1 0 1 1 1 0 1 1 1 0 1 1 1 1 1 1 1 1 1 0 1 1 1 1\n",
            " 0 1 1 1 0 1 0 0 0 1 1 1 1 1 1 1 1 1 0 1 0 0 1 1 1 1 1 1 1 0 0 1 0 1 0 1 1\n",
            " 0 1 0 1 1 1 0 1 0 1 1 1 1 0 1 1 0 0 0 1 0 1 1 1 1 0 0 1 0 0 1 0 1 1 0 0 1\n",
            " 1 0 1 0 1 1 0 0 1 0 1 1 0 1 1 0 1 1 0 0 1 1 1 1 1 1 1 1 0 1 1 0 1 0 1 0 1\n",
            " 0 1 1 1 1 1 1 1 1 1 1 1 0 1 1 0 0 1 1 1 1 1 0 0 0 0 1 0 1 0 1 1 1 1 1 0 0\n",
            " 1 0 1 1 0 0 0 1 1 0 0 0 1 1 1 0 0 0 1 1 1 1 1 0 0 0 1 0 0 0 1 1 1 1 0 0 0\n",
            " 0 0 1 1 0 0 1 1 0 1 1 1 0 0 0 1 0 1 0 1 0 1 1 0 1 1 0 1 0 0 0 0 1 0 0 1 1\n",
            " 1 1 0 1 0 1 1 1 1 1 0 1 1 1 0 1 1 1 0 1 1 1 0 1 1 1 0 1 0 1 1 0 1 0 1 1 1\n",
            " 1 0 0 1 1 1 0 1 1 1 1 1 1 0 1 1 1 1 0 1 1 1 1 1 1 1 1 1 0 0 1 1 1 0 1 1 0\n",
            " 1 1 0 1 1 1 0 1 0 1 1 1 0 1 0 0 0 1 0 1 0 1 1 0 0 0 1 1 1 1 1 1 1 1 1 1 0\n",
            " 1 0 1 1 1 1 0 0 0 1 1 1 1 1 0 1 1 0 1 1 1 1 1 1 0 1 1 1 1 1 1 1 1 1 0 1 1\n",
            " 0 0 0 1 1 0 0 1 0 1 1 0 0 1 1 0 1 1 0 1 1 0 1 0 1 0 1 0 1 1 1 0 1 0 0 1 0\n",
            " 1 1 0 0 1 1 1 1 0 1 1 0 0 1 0 0 1 1 0 1 1 1 0 1 1 1 0 1 1 1 1 1 1 1 0 1 0\n",
            " 1 1 1 1 1 0 1 1 1 1 1 1 0 1 1 0 1 1 1 1 1 1 0 1 1 1 1 1 0 1 1 0 1 1 1 1 1\n",
            " 1 1 0 1 0 1 1 1 1 1 1 1 1 1 1 1 1 1 1 1 1 1 0 0 1 1 1 1 1 0 1 0 0 1 1 0 1\n",
            " 0 1 0 1 0 0 0 1 1 1 1 1 1 1 0 0 0 1 0 0 0 0 0 1 1 1 0 1 1 1 1 1 0 1 0 0 0\n",
            " 0]\n"
          ]
        }
      ]
    },
    {
      "cell_type": "code",
      "source": [
        "# 練習7 正解・不正解の度数分布表を作成する。度数分布表には相対度数を加える。\n",
        "# Exercise 7 Create a frequency distribution table of wins and losses. Add relative frequencies to the frequency distribution table.\n",
        "bins = np.arange(0, 3, 1)\n",
        "freq, hist = np.histogram(result_yes, bins=bins)\n",
        "pd.DataFrame({\"度数\": freq, \"相対度数\": freq / num_trial1}, index=np.arange(0, 2))"
      ],
      "metadata": {
        "colab": {
          "base_uri": "https://localhost:8080/",
          "height": 112
        },
        "id": "R7JbobVmUBcx",
        "outputId": "22e0f5df-a726-4e9e-968d-4ab7349ed8ec"
      },
      "execution_count": 37,
      "outputs": [
        {
          "output_type": "execute_result",
          "data": {
            "text/plain": [
              "    度数   相対度数\n",
              "0  345  0.345\n",
              "1  655  0.655"
            ],
            "text/html": [
              "\n",
              "  <div id=\"df-8a631deb-0164-4245-af20-65d6302a9ed3\" class=\"colab-df-container\">\n",
              "    <div>\n",
              "<style scoped>\n",
              "    .dataframe tbody tr th:only-of-type {\n",
              "        vertical-align: middle;\n",
              "    }\n",
              "\n",
              "    .dataframe tbody tr th {\n",
              "        vertical-align: top;\n",
              "    }\n",
              "\n",
              "    .dataframe thead th {\n",
              "        text-align: right;\n",
              "    }\n",
              "</style>\n",
              "<table border=\"1\" class=\"dataframe\">\n",
              "  <thead>\n",
              "    <tr style=\"text-align: right;\">\n",
              "      <th></th>\n",
              "      <th>度数</th>\n",
              "      <th>相対度数</th>\n",
              "    </tr>\n",
              "  </thead>\n",
              "  <tbody>\n",
              "    <tr>\n",
              "      <th>0</th>\n",
              "      <td>345</td>\n",
              "      <td>0.345</td>\n",
              "    </tr>\n",
              "    <tr>\n",
              "      <th>1</th>\n",
              "      <td>655</td>\n",
              "      <td>0.655</td>\n",
              "    </tr>\n",
              "  </tbody>\n",
              "</table>\n",
              "</div>\n",
              "    <div class=\"colab-df-buttons\">\n",
              "\n",
              "  <div class=\"colab-df-container\">\n",
              "    <button class=\"colab-df-convert\" onclick=\"convertToInteractive('df-8a631deb-0164-4245-af20-65d6302a9ed3')\"\n",
              "            title=\"Convert this dataframe to an interactive table.\"\n",
              "            style=\"display:none;\">\n",
              "\n",
              "  <svg xmlns=\"http://www.w3.org/2000/svg\" height=\"24px\" viewBox=\"0 -960 960 960\">\n",
              "    <path d=\"M120-120v-720h720v720H120Zm60-500h600v-160H180v160Zm220 220h160v-160H400v160Zm0 220h160v-160H400v160ZM180-400h160v-160H180v160Zm440 0h160v-160H620v160ZM180-180h160v-160H180v160Zm440 0h160v-160H620v160Z\"/>\n",
              "  </svg>\n",
              "    </button>\n",
              "\n",
              "  <style>\n",
              "    .colab-df-container {\n",
              "      display:flex;\n",
              "      gap: 12px;\n",
              "    }\n",
              "\n",
              "    .colab-df-convert {\n",
              "      background-color: #E8F0FE;\n",
              "      border: none;\n",
              "      border-radius: 50%;\n",
              "      cursor: pointer;\n",
              "      display: none;\n",
              "      fill: #1967D2;\n",
              "      height: 32px;\n",
              "      padding: 0 0 0 0;\n",
              "      width: 32px;\n",
              "    }\n",
              "\n",
              "    .colab-df-convert:hover {\n",
              "      background-color: #E2EBFA;\n",
              "      box-shadow: 0px 1px 2px rgba(60, 64, 67, 0.3), 0px 1px 3px 1px rgba(60, 64, 67, 0.15);\n",
              "      fill: #174EA6;\n",
              "    }\n",
              "\n",
              "    .colab-df-buttons div {\n",
              "      margin-bottom: 4px;\n",
              "    }\n",
              "\n",
              "    [theme=dark] .colab-df-convert {\n",
              "      background-color: #3B4455;\n",
              "      fill: #D2E3FC;\n",
              "    }\n",
              "\n",
              "    [theme=dark] .colab-df-convert:hover {\n",
              "      background-color: #434B5C;\n",
              "      box-shadow: 0px 1px 3px 1px rgba(0, 0, 0, 0.15);\n",
              "      filter: drop-shadow(0px 1px 2px rgba(0, 0, 0, 0.3));\n",
              "      fill: #FFFFFF;\n",
              "    }\n",
              "  </style>\n",
              "\n",
              "    <script>\n",
              "      const buttonEl =\n",
              "        document.querySelector('#df-8a631deb-0164-4245-af20-65d6302a9ed3 button.colab-df-convert');\n",
              "      buttonEl.style.display =\n",
              "        google.colab.kernel.accessAllowed ? 'block' : 'none';\n",
              "\n",
              "      async function convertToInteractive(key) {\n",
              "        const element = document.querySelector('#df-8a631deb-0164-4245-af20-65d6302a9ed3');\n",
              "        const dataTable =\n",
              "          await google.colab.kernel.invokeFunction('convertToInteractive',\n",
              "                                                    [key], {});\n",
              "        if (!dataTable) return;\n",
              "\n",
              "        const docLinkHtml = 'Like what you see? Visit the ' +\n",
              "          '<a target=\"_blank\" href=https://colab.research.google.com/notebooks/data_table.ipynb>data table notebook</a>'\n",
              "          + ' to learn more about interactive tables.';\n",
              "        element.innerHTML = '';\n",
              "        dataTable['output_type'] = 'display_data';\n",
              "        await google.colab.output.renderOutput(dataTable, element);\n",
              "        const docLink = document.createElement('div');\n",
              "        docLink.innerHTML = docLinkHtml;\n",
              "        element.appendChild(docLink);\n",
              "      }\n",
              "    </script>\n",
              "  </div>\n",
              "\n",
              "\n",
              "    <div id=\"df-32d38520-38ea-4bf0-88e4-d9649068687f\">\n",
              "      <button class=\"colab-df-quickchart\" onclick=\"quickchart('df-32d38520-38ea-4bf0-88e4-d9649068687f')\"\n",
              "                title=\"Suggest charts\"\n",
              "                style=\"display:none;\">\n",
              "\n",
              "<svg xmlns=\"http://www.w3.org/2000/svg\" height=\"24px\"viewBox=\"0 0 24 24\"\n",
              "     width=\"24px\">\n",
              "    <g>\n",
              "        <path d=\"M19 3H5c-1.1 0-2 .9-2 2v14c0 1.1.9 2 2 2h14c1.1 0 2-.9 2-2V5c0-1.1-.9-2-2-2zM9 17H7v-7h2v7zm4 0h-2V7h2v10zm4 0h-2v-4h2v4z\"/>\n",
              "    </g>\n",
              "</svg>\n",
              "      </button>\n",
              "\n",
              "<style>\n",
              "  .colab-df-quickchart {\n",
              "      --bg-color: #E8F0FE;\n",
              "      --fill-color: #1967D2;\n",
              "      --hover-bg-color: #E2EBFA;\n",
              "      --hover-fill-color: #174EA6;\n",
              "      --disabled-fill-color: #AAA;\n",
              "      --disabled-bg-color: #DDD;\n",
              "  }\n",
              "\n",
              "  [theme=dark] .colab-df-quickchart {\n",
              "      --bg-color: #3B4455;\n",
              "      --fill-color: #D2E3FC;\n",
              "      --hover-bg-color: #434B5C;\n",
              "      --hover-fill-color: #FFFFFF;\n",
              "      --disabled-bg-color: #3B4455;\n",
              "      --disabled-fill-color: #666;\n",
              "  }\n",
              "\n",
              "  .colab-df-quickchart {\n",
              "    background-color: var(--bg-color);\n",
              "    border: none;\n",
              "    border-radius: 50%;\n",
              "    cursor: pointer;\n",
              "    display: none;\n",
              "    fill: var(--fill-color);\n",
              "    height: 32px;\n",
              "    padding: 0;\n",
              "    width: 32px;\n",
              "  }\n",
              "\n",
              "  .colab-df-quickchart:hover {\n",
              "    background-color: var(--hover-bg-color);\n",
              "    box-shadow: 0 1px 2px rgba(60, 64, 67, 0.3), 0 1px 3px 1px rgba(60, 64, 67, 0.15);\n",
              "    fill: var(--button-hover-fill-color);\n",
              "  }\n",
              "\n",
              "  .colab-df-quickchart-complete:disabled,\n",
              "  .colab-df-quickchart-complete:disabled:hover {\n",
              "    background-color: var(--disabled-bg-color);\n",
              "    fill: var(--disabled-fill-color);\n",
              "    box-shadow: none;\n",
              "  }\n",
              "\n",
              "  .colab-df-spinner {\n",
              "    border: 2px solid var(--fill-color);\n",
              "    border-color: transparent;\n",
              "    border-bottom-color: var(--fill-color);\n",
              "    animation:\n",
              "      spin 1s steps(1) infinite;\n",
              "  }\n",
              "\n",
              "  @keyframes spin {\n",
              "    0% {\n",
              "      border-color: transparent;\n",
              "      border-bottom-color: var(--fill-color);\n",
              "      border-left-color: var(--fill-color);\n",
              "    }\n",
              "    20% {\n",
              "      border-color: transparent;\n",
              "      border-left-color: var(--fill-color);\n",
              "      border-top-color: var(--fill-color);\n",
              "    }\n",
              "    30% {\n",
              "      border-color: transparent;\n",
              "      border-left-color: var(--fill-color);\n",
              "      border-top-color: var(--fill-color);\n",
              "      border-right-color: var(--fill-color);\n",
              "    }\n",
              "    40% {\n",
              "      border-color: transparent;\n",
              "      border-right-color: var(--fill-color);\n",
              "      border-top-color: var(--fill-color);\n",
              "    }\n",
              "    60% {\n",
              "      border-color: transparent;\n",
              "      border-right-color: var(--fill-color);\n",
              "    }\n",
              "    80% {\n",
              "      border-color: transparent;\n",
              "      border-right-color: var(--fill-color);\n",
              "      border-bottom-color: var(--fill-color);\n",
              "    }\n",
              "    90% {\n",
              "      border-color: transparent;\n",
              "      border-bottom-color: var(--fill-color);\n",
              "    }\n",
              "  }\n",
              "</style>\n",
              "\n",
              "      <script>\n",
              "        async function quickchart(key) {\n",
              "          const quickchartButtonEl =\n",
              "            document.querySelector('#' + key + ' button');\n",
              "          quickchartButtonEl.disabled = true;  // To prevent multiple clicks.\n",
              "          quickchartButtonEl.classList.add('colab-df-spinner');\n",
              "          try {\n",
              "            const charts = await google.colab.kernel.invokeFunction(\n",
              "                'suggestCharts', [key], {});\n",
              "          } catch (error) {\n",
              "            console.error('Error during call to suggestCharts:', error);\n",
              "          }\n",
              "          quickchartButtonEl.classList.remove('colab-df-spinner');\n",
              "          quickchartButtonEl.classList.add('colab-df-quickchart-complete');\n",
              "        }\n",
              "        (() => {\n",
              "          let quickchartButtonEl =\n",
              "            document.querySelector('#df-32d38520-38ea-4bf0-88e4-d9649068687f button');\n",
              "          quickchartButtonEl.style.display =\n",
              "            google.colab.kernel.accessAllowed ? 'block' : 'none';\n",
              "        })();\n",
              "      </script>\n",
              "    </div>\n",
              "\n",
              "    </div>\n",
              "  </div>\n"
            ],
            "application/vnd.google.colaboratory.intrinsic+json": {
              "type": "dataframe",
              "summary": "{\n  \"name\": \"pd\",\n  \"rows\": 2,\n  \"fields\": [\n    {\n      \"column\": \"\\u5ea6\\u6570\",\n      \"properties\": {\n        \"dtype\": \"number\",\n        \"std\": 219,\n        \"min\": 345,\n        \"max\": 655,\n        \"num_unique_values\": 2,\n        \"samples\": [\n          655,\n          345\n        ],\n        \"semantic_type\": \"\",\n        \"description\": \"\"\n      }\n    },\n    {\n      \"column\": \"\\u76f8\\u5bfe\\u5ea6\\u6570\",\n      \"properties\": {\n        \"dtype\": \"number\",\n        \"std\": 0.21920310216782976,\n        \"min\": 0.345,\n        \"max\": 0.655,\n        \"num_unique_values\": 2,\n        \"samples\": [\n          0.655,\n          0.345\n        ],\n        \"semantic_type\": \"\",\n        \"description\": \"\"\n      }\n    }\n  ]\n}"
            }
          },
          "metadata": {},
          "execution_count": 37
        }
      ]
    },
    {
      "cell_type": "code",
      "source": [
        "# 練習8 正解・不正解のヒストグラムを図示し、実際の確率と比較する。ヒストグラムは相対度数で作成する。\n",
        "# Exercise 8 Illustrate a histogram of wins and losses and compare it to the actual probability.\n",
        "# The histograms should be made in relative frequencies.\n",
        "\n",
        "# ここにヒストグラムを作成するコードを記述する\n",
        "# Write the code to create the histogram here\n",
        "plt.hist(result_yes, bins=bins, density=True)\n",
        "plt.ylabel(\"相対度数\")\n",
        "plt.xlabel(\"正解/不正解\")\n",
        "\n",
        "# 以下は変更しなくてよい\n",
        "# No need to change the following\n",
        "prob = [1 / 3, 2 / 3]\n",
        "plt.hlines(prob, np.arange(0, 2), np.arange(1, 3), colors=\"r\")"
      ],
      "metadata": {
        "colab": {
          "base_uri": "https://localhost:8080/",
          "height": 471
        },
        "id": "6nTC4Mb8UDPx",
        "outputId": "9ea348ca-bd97-4d3a-f19c-10dabcf4edee"
      },
      "execution_count": 38,
      "outputs": [
        {
          "output_type": "execute_result",
          "data": {
            "text/plain": [
              "<matplotlib.collections.LineCollection at 0x7b054509b810>"
            ]
          },
          "metadata": {},
          "execution_count": 38
        },
        {
          "output_type": "display_data",
          "data": {
            "text/plain": [
              "<Figure size 640x480 with 1 Axes>"
            ],
            "image/png": "[encoded data removed]"
          },
          "metadata": {}
        }
      ]
    },
    {
      "cell_type": "markdown",
      "source": [
        "ケース2 挑戦者は最初に扉Aを選び、モンティ・ホールの扉選択後も選ぶ扉を変えない"
      ],
      "metadata": {
        "id": "uiOiwUFDUHeB"
      }
    },
    {
      "cell_type": "markdown",
      "source": [
        "Case 2: The contestant initially chooses Door A and does not switch after Monty Hall reveals a door."
      ],
      "metadata": {
        "id": "0HfpwHN1XIh6"
      }
    },
    {
      "cell_type": "code",
      "source": [
        "# 最初に選ぶ扉をAとして、モンティ・ホールの扉の選択後に扉を変えない試行を1000回行う。\n",
        "# With A as the first door to be selected, 1000 attempts are made NOT to change doors after Monty Hall has selected a door.\n",
        "# The output is 1 for a win and 0 for a lose.\n",
        "result_no = []\n",
        "num_trial2 = 1000\n",
        "for i in range(1, num_trial1):\n",
        "    result_temp = monty_hall(\"A\", \"No\")\n",
        "    result_no.append(result_temp)\n",
        "result_no = np.array(result_no)\n",
        "print(result_no)"
      ],
      "metadata": {
        "colab": {
          "base_uri": "https://localhost:8080/"
        },
        "id": "zkEIJVHdUFMy",
        "outputId": "307fcd0e-57f8-40e0-8b5f-86e1cb3969ac"
      },
      "execution_count": 39,
      "outputs": [
        {
          "output_type": "stream",
          "name": "stdout",
          "text": [
            "[1 0 1 0 1 0 0 0 0 0 0 1 0 0 0 0 0 0 0 0 1 0 1 0 0 1 1 0 0 0 1 0 0 1 1 1 0\n",
            " 1 0 0 1 1 0 1 1 0 0 1 0 0 0 0 1 0 0 0 0 0 0 0 0 0 0 0 0 1 0 1 0 0 0 0 1 0\n",
            " 0 0 0 1 0 1 0 0 0 1 0 0 0 1 0 0 0 0 1 1 1 0 1 0 0 0 0 0 1 0 1 0 0 0 0 0 1\n",
            " 0 0 0 0 0 1 0 1 0 1 0 0 0 0 1 0 0 0 0 0 0 0 1 0 1 0 0 0 0 0 0 0 0 1 0 0 0\n",
            " 0 0 1 0 1 0 0 1 0 0 1 1 0 0 1 0 0 0 0 0 1 1 1 0 0 1 0 1 0 1 0 0 0 1 0 0 0\n",
            " 1 0 1 1 0 0 1 1 0 0 0 0 0 1 0 0 1 0 0 0 0 1 0 0 0 0 0 0 0 0 0 0 0 1 0 0 0\n",
            " 1 0 0 0 0 1 0 0 0 0 0 0 0 0 0 0 1 0 0 0 1 1 0 0 0 1 0 0 0 0 1 1 0 1 1 0 1\n",
            " 0 0 0 0 0 0 1 0 0 0 0 0 0 1 1 1 1 1 0 1 1 1 1 1 0 0 1 1 1 0 0 0 1 0 0 0 1\n",
            " 1 0 0 0 0 0 1 0 0 0 0 1 0 1 0 1 0 0 0 1 0 0 1 0 1 0 0 0 0 0 0 1 0 0 0 1 0\n",
            " 1 0 1 0 0 0 1 0 1 0 0 0 0 1 0 0 1 1 1 0 0 0 0 1 1 1 0 0 0 1 0 0 1 1 0 1 1\n",
            " 0 0 0 1 0 1 0 0 1 0 0 1 1 1 0 0 1 0 0 0 0 0 0 1 1 1 0 0 0 1 1 1 0 0 0 0 0\n",
            " 0 0 0 0 0 1 0 0 0 0 0 1 1 0 0 0 1 1 1 0 1 1 0 1 0 0 0 0 0 1 0 1 1 0 1 0 0\n",
            " 0 1 0 0 0 0 0 1 0 0 0 0 0 1 0 0 1 0 0 1 0 0 1 1 0 0 0 0 0 0 1 0 1 0 0 1 0\n",
            " 1 0 0 0 0 0 0 0 1 0 0 0 0 0 1 1 1 0 1 0 0 0 0 1 0 1 0 0 1 0 0 0 1 0 0 0 0\n",
            " 0 0 0 0 1 0 0 0 0 1 1 0 1 0 1 1 1 0 0 0 0 0 1 0 0 0 0 0 0 0 0 1 0 0 0 0 0\n",
            " 0 0 0 1 0 0 0 1 1 0 1 0 1 1 1 0 0 0 0 0 1 1 0 0 0 0 0 0 0 1 0 1 0 1 1 1 0\n",
            " 0 0 0 0 0 1 0 0 0 1 1 1 0 0 0 1 0 0 0 0 0 0 0 1 0 0 0 1 0 0 0 1 1 0 1 0 0\n",
            " 0 0 0 0 1 1 0 0 1 1 0 0 0 0 0 0 0 0 0 0 0 0 1 0 1 0 0 0 0 0 0 0 0 1 0 1 1\n",
            " 0 0 0 1 0 0 0 0 0 0 1 0 0 0 1 0 0 0 0 0 0 0 1 0 0 0 0 0 1 0 1 0 1 0 0 0 1\n",
            " 1 1 1 0 0 0 0 0 0 0 1 1 0 0 0 0 1 0 0 0 0 0 0 1 0 1 0 0 0 0 0 0 0 0 0 0 0\n",
            " 1 0 0 1 1 0 0 0 0 1 0 0 0 0 0 1 1 0 0 0 0 1 0 0 1 0 0 0 0 0 1 0 1 1 0 1 0\n",
            " 0 0 1 1 0 0 1 0 0 0 1 0 0 0 1 0 1 0 1 1 0 0 0 0 0 1 0 0 0 1 1 0 1 0 0 0 1\n",
            " 0 1 1 0 0 0 0 1 1 1 0 0 0 0 1 0 0 0 0 0 1 1 0 0 1 0 0 0 1 0 1 1 0 0 0 1 0\n",
            " 0 0 1 0 0 0 0 0 1 1 0 1 0 1 0 0 0 1 0 1 1 0 0 0 0 0 0 0 0 0 1 1 1 0 0 0 1\n",
            " 0 0 0 0 1 0 0 0 0 0 1 0 1 0 0 0 0 0 0 1 0 1 0 0 0 1 1 0 1 0 0 1 0 1 1 1 0\n",
            " 0 0 0 1 1 1 0 1 0 0 0 1 1 0 0 1 0 0 1 0 0 1 0 0 0 1 1 0 1 1 1 1 0 0 0 0 0\n",
            " 0 1 1 0 1 1 1 1 0 1 0 0 1 1 0 0 0 0 0 1 1 1 1 1 0 0 0 0 0 0 1 1 1 0 0 0 0]\n"
          ]
        }
      ]
    },
    {
      "cell_type": "code",
      "source": [
        "# 練習9 正解・不正解の度数分布表を作成する。度数分布表には相対度数を加える。\n",
        "# Exercise 9 Create a frequency distribution table of wins and losses. Add relative frequencies to the frequency distribution table.\n",
        "bins = np.arange(0, 3, 1)\n",
        "freq, hist = np.histogram(result_no, bins=bins)\n",
        "pd.DataFrame({\"度数\": freq, \"相対度数\": freq / num_trial2}, index=np.arange(0, 2))"
      ],
      "metadata": {
        "colab": {
          "base_uri": "https://localhost:8080/",
          "height": 112
        },
        "id": "rb1cZ44zUKvj",
        "outputId": "f156ff5b-8390-487e-c677-ee039236b788"
      },
      "execution_count": 40,
      "outputs": [
        {
          "output_type": "execute_result",
          "data": {
            "text/plain": [
              "    度数   相対度数\n",
              "0  686  0.686\n",
              "1  313  0.313"
            ],
            "text/html": [
              "\n",
              "  <div id=\"df-71acd7b9-f8c5-4b73-90f4-b7c388d87ded\" class=\"colab-df-container\">\n",
              "    <div>\n",
              "<style scoped>\n",
              "    .dataframe tbody tr th:only-of-type {\n",
              "        vertical-align: middle;\n",
              "    }\n",
              "\n",
              "    .dataframe tbody tr th {\n",
              "        vertical-align: top;\n",
              "    }\n",
              "\n",
              "    .dataframe thead th {\n",
              "        text-align: right;\n",
              "    }\n",
              "</style>\n",
              "<table border=\"1\" class=\"dataframe\">\n",
              "  <thead>\n",
              "    <tr style=\"text-align: right;\">\n",
              "      <th></th>\n",
              "      <th>度数</th>\n",
              "      <th>相対度数</th>\n",
              "    </tr>\n",
              "  </thead>\n",
              "  <tbody>\n",
              "    <tr>\n",
              "      <th>0</th>\n",
              "      <td>686</td>\n",
              "      <td>0.686</td>\n",
              "    </tr>\n",
              "    <tr>\n",
              "      <th>1</th>\n",
              "      <td>313</td>\n",
              "      <td>0.313</td>\n",
              "    </tr>\n",
              "  </tbody>\n",
              "</table>\n",
              "</div>\n",
              "    <div class=\"colab-df-buttons\">\n",
              "\n",
              "  <div class=\"colab-df-container\">\n",
              "    <button class=\"colab-df-convert\" onclick=\"convertToInteractive('df-71acd7b9-f8c5-4b73-90f4-b7c388d87ded')\"\n",
              "            title=\"Convert this dataframe to an interactive table.\"\n",
              "            style=\"display:none;\">\n",
              "\n",
              "  <svg xmlns=\"http://www.w3.org/2000/svg\" height=\"24px\" viewBox=\"0 -960 960 960\">\n",
              "    <path d=\"M120-120v-720h720v720H120Zm60-500h600v-160H180v160Zm220 220h160v-160H400v160Zm0 220h160v-160H400v160ZM180-400h160v-160H180v160Zm440 0h160v-160H620v160ZM180-180h160v-160H180v160Zm440 0h160v-160H620v160Z\"/>\n",
              "  </svg>\n",
              "    </button>\n",
              "\n",
              "  <style>\n",
              "    .colab-df-container {\n",
              "      display:flex;\n",
              "      gap: 12px;\n",
              "    }\n",
              "\n",
              "    .colab-df-convert {\n",
              "      background-color: #E8F0FE;\n",
              "      border: none;\n",
              "      border-radius: 50%;\n",
              "      cursor: pointer;\n",
              "      display: none;\n",
              "      fill: #1967D2;\n",
              "      height: 32px;\n",
              "      padding: 0 0 0 0;\n",
              "      width: 32px;\n",
              "    }\n",
              "\n",
              "    .colab-df-convert:hover {\n",
              "      background-color: #E2EBFA;\n",
              "      box-shadow: 0px 1px 2px rgba(60, 64, 67, 0.3), 0px 1px 3px 1px rgba(60, 64, 67, 0.15);\n",
              "      fill: #174EA6;\n",
              "    }\n",
              "\n",
              "    .colab-df-buttons div {\n",
              "      margin-bottom: 4px;\n",
              "    }\n",
              "\n",
              "    [theme=dark] .colab-df-convert {\n",
              "      background-color: #3B4455;\n",
              "      fill: #D2E3FC;\n",
              "    }\n",
              "\n",
              "    [theme=dark] .colab-df-convert:hover {\n",
              "      background-color: #434B5C;\n",
              "      box-shadow: 0px 1px 3px 1px rgba(0, 0, 0, 0.15);\n",
              "      filter: drop-shadow(0px 1px 2px rgba(0, 0, 0, 0.3));\n",
              "      fill: #FFFFFF;\n",
              "    }\n",
              "  </style>\n",
              "\n",
              "    <script>\n",
              "      const buttonEl =\n",
              "        document.querySelector('#df-71acd7b9-f8c5-4b73-90f4-b7c388d87ded button.colab-df-convert');\n",
              "      buttonEl.style.display =\n",
              "        google.colab.kernel.accessAllowed ? 'block' : 'none';\n",
              "\n",
              "      async function convertToInteractive(key) {\n",
              "        const element = document.querySelector('#df-71acd7b9-f8c5-4b73-90f4-b7c388d87ded');\n",
              "        const dataTable =\n",
              "          await google.colab.kernel.invokeFunction('convertToInteractive',\n",
              "                                                    [key], {});\n",
              "        if (!dataTable) return;\n",
              "\n",
              "        const docLinkHtml = 'Like what you see? Visit the ' +\n",
              "          '<a target=\"_blank\" href=https://colab.research.google.com/notebooks/data_table.ipynb>data table notebook</a>'\n",
              "          + ' to learn more about interactive tables.';\n",
              "        element.innerHTML = '';\n",
              "        dataTable['output_type'] = 'display_data';\n",
              "        await google.colab.output.renderOutput(dataTable, element);\n",
              "        const docLink = document.createElement('div');\n",
              "        docLink.innerHTML = docLinkHtml;\n",
              "        element.appendChild(docLink);\n",
              "      }\n",
              "    </script>\n",
              "  </div>\n",
              "\n",
              "\n",
              "    <div id=\"df-ee2f0ae8-d6ca-4088-8bce-555c12968cbe\">\n",
              "      <button class=\"colab-df-quickchart\" onclick=\"quickchart('df-ee2f0ae8-d6ca-4088-8bce-555c12968cbe')\"\n",
              "                title=\"Suggest charts\"\n",
              "                style=\"display:none;\">\n",
              "\n",
              "<svg xmlns=\"http://www.w3.org/2000/svg\" height=\"24px\"viewBox=\"0 0 24 24\"\n",
              "     width=\"24px\">\n",
              "    <g>\n",
              "        <path d=\"M19 3H5c-1.1 0-2 .9-2 2v14c0 1.1.9 2 2 2h14c1.1 0 2-.9 2-2V5c0-1.1-.9-2-2-2zM9 17H7v-7h2v7zm4 0h-2V7h2v10zm4 0h-2v-4h2v4z\"/>\n",
              "    </g>\n",
              "</svg>\n",
              "      </button>\n",
              "\n",
              "<style>\n",
              "  .colab-df-quickchart {\n",
              "      --bg-color: #E8F0FE;\n",
              "      --fill-color: #1967D2;\n",
              "      --hover-bg-color: #E2EBFA;\n",
              "      --hover-fill-color: #174EA6;\n",
              "      --disabled-fill-color: #AAA;\n",
              "      --disabled-bg-color: #DDD;\n",
              "  }\n",
              "\n",
              "  [theme=dark] .colab-df-quickchart {\n",
              "      --bg-color: #3B4455;\n",
              "      --fill-color: #D2E3FC;\n",
              "      --hover-bg-color: #434B5C;\n",
              "      --hover-fill-color: #FFFFFF;\n",
              "      --disabled-bg-color: #3B4455;\n",
              "      --disabled-fill-color: #666;\n",
              "  }\n",
              "\n",
              "  .colab-df-quickchart {\n",
              "    background-color: var(--bg-color);\n",
              "    border: none;\n",
              "    border-radius: 50%;\n",
              "    cursor: pointer;\n",
              "    display: none;\n",
              "    fill: var(--fill-color);\n",
              "    height: 32px;\n",
              "    padding: 0;\n",
              "    width: 32px;\n",
              "  }\n",
              "\n",
              "  .colab-df-quickchart:hover {\n",
              "    background-color: var(--hover-bg-color);\n",
              "    box-shadow: 0 1px 2px rgba(60, 64, 67, 0.3), 0 1px 3px 1px rgba(60, 64, 67, 0.15);\n",
              "    fill: var(--button-hover-fill-color);\n",
              "  }\n",
              "\n",
              "  .colab-df-quickchart-complete:disabled,\n",
              "  .colab-df-quickchart-complete:disabled:hover {\n",
              "    background-color: var(--disabled-bg-color);\n",
              "    fill: var(--disabled-fill-color);\n",
              "    box-shadow: none;\n",
              "  }\n",
              "\n",
              "  .colab-df-spinner {\n",
              "    border: 2px solid var(--fill-color);\n",
              "    border-color: transparent;\n",
              "    border-bottom-color: var(--fill-color);\n",
              "    animation:\n",
              "      spin 1s steps(1) infinite;\n",
              "  }\n",
              "\n",
              "  @keyframes spin {\n",
              "    0% {\n",
              "      border-color: transparent;\n",
              "      border-bottom-color: var(--fill-color);\n",
              "      border-left-color: var(--fill-color);\n",
              "    }\n",
              "    20% {\n",
              "      border-color: transparent;\n",
              "      border-left-color: var(--fill-color);\n",
              "      border-top-color: var(--fill-color);\n",
              "    }\n",
              "    30% {\n",
              "      border-color: transparent;\n",
              "      border-left-color: var(--fill-color);\n",
              "      border-top-color: var(--fill-color);\n",
              "      border-right-color: var(--fill-color);\n",
              "    }\n",
              "    40% {\n",
              "      border-color: transparent;\n",
              "      border-right-color: var(--fill-color);\n",
              "      border-top-color: var(--fill-color);\n",
              "    }\n",
              "    60% {\n",
              "      border-color: transparent;\n",
              "      border-right-color: var(--fill-color);\n",
              "    }\n",
              "    80% {\n",
              "      border-color: transparent;\n",
              "      border-right-color: var(--fill-color);\n",
              "      border-bottom-color: var(--fill-color);\n",
              "    }\n",
              "    90% {\n",
              "      border-color: transparent;\n",
              "      border-bottom-color: var(--fill-color);\n",
              "    }\n",
              "  }\n",
              "</style>\n",
              "\n",
              "      <script>\n",
              "        async function quickchart(key) {\n",
              "          const quickchartButtonEl =\n",
              "            document.querySelector('#' + key + ' button');\n",
              "          quickchartButtonEl.disabled = true;  // To prevent multiple clicks.\n",
              "          quickchartButtonEl.classList.add('colab-df-spinner');\n",
              "          try {\n",
              "            const charts = await google.colab.kernel.invokeFunction(\n",
              "                'suggestCharts', [key], {});\n",
              "          } catch (error) {\n",
              "            console.error('Error during call to suggestCharts:', error);\n",
              "          }\n",
              "          quickchartButtonEl.classList.remove('colab-df-spinner');\n",
              "          quickchartButtonEl.classList.add('colab-df-quickchart-complete');\n",
              "        }\n",
              "        (() => {\n",
              "          let quickchartButtonEl =\n",
              "            document.querySelector('#df-ee2f0ae8-d6ca-4088-8bce-555c12968cbe button');\n",
              "          quickchartButtonEl.style.display =\n",
              "            google.colab.kernel.accessAllowed ? 'block' : 'none';\n",
              "        })();\n",
              "      </script>\n",
              "    </div>\n",
              "\n",
              "    </div>\n",
              "  </div>\n"
            ],
            "application/vnd.google.colaboratory.intrinsic+json": {
              "type": "dataframe",
              "summary": "{\n  \"name\": \"pd\",\n  \"rows\": 2,\n  \"fields\": [\n    {\n      \"column\": \"\\u5ea6\\u6570\",\n      \"properties\": {\n        \"dtype\": \"number\",\n        \"std\": 263,\n        \"min\": 313,\n        \"max\": 686,\n        \"num_unique_values\": 2,\n        \"samples\": [\n          313,\n          686\n        ],\n        \"semantic_type\": \"\",\n        \"description\": \"\"\n      }\n    },\n    {\n      \"column\": \"\\u76f8\\u5bfe\\u5ea6\\u6570\",\n      \"properties\": {\n        \"dtype\": \"number\",\n        \"std\": 0.26375082938258226,\n        \"min\": 0.313,\n        \"max\": 0.686,\n        \"num_unique_values\": 2,\n        \"samples\": [\n          0.313,\n          0.686\n        ],\n        \"semantic_type\": \"\",\n        \"description\": \"\"\n      }\n    }\n  ]\n}"
            }
          },
          "metadata": {},
          "execution_count": 40
        }
      ]
    },
    {
      "cell_type": "code",
      "source": [
        "# 練習10 正解・不正解のヒストグラムを図示し、実際の確率と比較する。ヒストグラムは相対度数で作成する。\n",
        "# Exercise 10 Illustrate a histogram of wins and losses and compare it to the actual probability.\n",
        "# The histograms should be made in relative frequencies.\n",
        "\n",
        "# ここにヒストグラムを作成するコードを記述する\n",
        "# Write the code to create the histogram here\n",
        "plt.hist(result_no, bins=bins, density=True)\n",
        "plt.ylabel(\"相対度数\")\n",
        "plt.xlabel(\"正解/不正解\")\n",
        "\n",
        "# 以下は変更しなくてよい\n",
        "# No need to change the following\n",
        "prob = [2 / 3, 1 / 3]\n",
        "plt.hlines(prob, np.arange(0, 2), np.arange(1, 3), colors=\"r\")"
      ],
      "metadata": {
        "colab": {
          "base_uri": "https://localhost:8080/",
          "height": 466
        },
        "id": "FxUQzjEeUMcG",
        "outputId": "7ff2608c-f326-4f27-94ab-becd34363614"
      },
      "execution_count": 41,
      "outputs": [
        {
          "output_type": "execute_result",
          "data": {
            "text/plain": [
              "<matplotlib.collections.LineCollection at 0x7b05450f5e50>"
            ]
          },
          "metadata": {},
          "execution_count": 41
        },
        {
          "output_type": "display_data",
          "data": {
            "text/plain": [
              "<Figure size 640x480 with 1 Axes>"
            ],
            "image/png": "[encoded data removed]"
          },
          "metadata": {}
        }
      ]
    },
    {
      "cell_type": "markdown",
      "source": [
        "## 条件付き確率\n",
        "\n",
        "事象Aが起きたときの事象Bの確率を条件付き確率$P(B|A)$と表現し、次の式で計算する。\n",
        "\n",
        "$$\n",
        "    P(B|A) = \\frac{P(A)\\cap P(B)}{P(A)}\n",
        "$$\n",
        "\n",
        "- サイコロを1度ふったときに出た目が偶数の目であったとき（事象A）に、その目が2以下である（事象B）条件付き確率を求める。\n",
        "- サイコロを1度ふったときに出た目が奇数の目であったとき（事象A）に、その目が3以下である（事象B）条件付き確率を求める。"
      ],
      "metadata": {
        "id": "GKqM0Yy_UOfk"
      }
    },
    {
      "cell_type": "markdown",
      "source": [
        "## Conditional Probability\n",
        "\n",
        "The probability of event B when event A occurs is expressed as the conditional probability $P(B|A)$ and is calculated by the following formula.\n",
        "\n",
        "$$\n",
        "    P(B|A) = \\frac{P(A)\\cap P(B)}{P(A)}\n",
        "$$\n",
        "\n",
        "- Calculate the conditional probability that when the dice are rolled once and the result is an even number (event A), the result is less than or equal to 2 (event B).\n",
        "- Calculate the conditional probability that the dice rolls once and the result is an odd number (Event A), and that the result is less than or equal to 3 (Event B)."
      ],
      "metadata": {
        "id": "Hg2SOJkxUQ1G"
      }
    },
    {
      "cell_type": "code",
      "source": [
        "# サイコロを1回振る試行を1000回行った結果を出力する。\n",
        "# Output the result of 1000 trials of one roll of the dice.\n",
        "num_trial3 = 1000\n",
        "dice = [1, 2, 3, 4, 5, 6]\n",
        "prob = [1 / 6, 1 / 6, 1 / 6, 1 / 6, 1 / 6, 1 / 6]\n",
        "x = np.random.choice(dice, p=prob, size=num_trial3)\n",
        "print(x)"
      ],
      "metadata": {
        "colab": {
          "base_uri": "https://localhost:8080/"
        },
        "id": "U4jBSCBbUQMW",
        "outputId": "2ece273a-9420-4cff-b142-309bd6d0a163"
      },
      "execution_count": 42,
      "outputs": [
        {
          "output_type": "stream",
          "name": "stdout",
          "text": [
            "[6 1 3 1 5 5 4 5 6 6 5 5 3 6 1 6 1 3 4 6 5 3 1 3 1 6 5 3 4 3 1 1 5 4 1 4 3\n",
            " 2 5 2 3 4 4 5 2 5 5 1 4 2 6 4 1 1 4 5 1 3 1 5 2 2 2 3 6 1 5 4 2 4 6 4 1 1\n",
            " 4 2 5 1 3 3 3 6 4 4 4 3 4 2 5 1 3 1 6 4 1 1 5 4 1 3 5 2 3 1 4 1 5 1 6 2 3\n",
            " 2 3 1 6 1 2 1 5 3 4 4 6 3 4 4 4 1 2 6 4 2 5 2 4 1 5 2 3 1 2 3 2 1 2 2 1 1\n",
            " 4 6 2 2 1 6 3 4 1 4 5 5 3 4 5 4 5 2 6 6 1 1 3 5 3 6 1 4 2 2 2 1 3 4 3 3 1\n",
            " 1 4 1 4 4 4 6 1 3 5 1 2 6 2 2 3 5 2 3 2 6 3 1 3 6 2 4 3 4 6 2 6 1 2 2 4 2\n",
            " 1 5 3 4 3 6 6 6 6 3 6 5 6 6 3 5 2 4 3 1 1 1 2 3 2 6 4 1 4 1 5 4 5 6 3 4 3\n",
            " 3 2 4 4 2 5 4 1 6 3 5 2 5 6 6 5 2 3 1 1 5 4 3 3 3 2 5 2 1 2 6 2 1 1 5 6 6\n",
            " 5 1 1 4 1 4 3 6 6 5 6 3 2 6 3 3 3 5 3 3 4 1 3 3 3 1 5 2 2 2 4 2 3 3 1 6 4\n",
            " 4 4 5 1 1 6 1 3 6 3 5 4 3 3 2 5 2 6 5 2 5 1 4 6 6 1 2 6 3 4 5 1 1 2 1 6 1\n",
            " 3 3 1 6 1 4 3 2 2 4 3 6 4 4 4 2 2 2 2 5 2 5 1 5 3 4 2 3 5 6 5 2 3 5 6 4 5\n",
            " 5 4 4 5 3 1 2 3 3 1 3 5 2 1 2 1 6 6 1 2 4 6 1 5 3 5 6 6 5 6 5 6 4 2 3 4 3\n",
            " 6 1 6 4 2 3 1 4 4 2 6 1 6 1 4 6 6 3 6 3 1 5 2 4 2 1 1 2 4 3 5 5 5 5 1 6 1\n",
            " 6 5 4 4 3 3 2 1 2 5 2 1 4 6 6 5 3 4 5 4 6 4 2 1 5 6 4 5 1 1 2 3 1 5 1 4 1\n",
            " 4 4 4 4 1 4 5 2 1 3 1 5 2 6 5 6 6 2 5 2 1 1 1 5 3 5 3 1 5 6 1 2 3 6 5 6 5\n",
            " 4 6 5 6 4 4 3 1 5 2 3 6 1 4 5 6 6 6 4 1 5 4 3 1 1 5 2 6 4 2 6 1 1 6 2 4 6\n",
            " 2 6 3 2 5 3 4 4 6 6 4 5 2 6 1 3 4 2 1 5 6 2 1 3 3 1 3 3 2 2 3 5 6 6 6 1 3\n",
            " 2 1 4 2 4 1 3 1 1 3 4 4 4 2 1 1 5 1 1 5 6 4 1 5 6 2 3 2 1 2 5 1 1 5 3 1 1\n",
            " 5 2 6 6 4 5 3 4 4 1 3 4 5 1 5 3 3 4 2 6 1 3 2 6 5 2 6 2 5 3 3 4 1 2 5 3 6\n",
            " 1 5 3 6 1 2 2 1 3 3 2 4 6 5 1 1 2 2 3 4 4 6 6 3 1 5 4 2 5 5 1 3 2 3 1 4 2\n",
            " 4 3 1 5 4 4 5 3 1 6 5 3 5 5 2 1 6 6 1 5 1 6 2 6 6 3 4 5 6 5 6 6 3 6 6 4 3\n",
            " 3 3 4 1 3 6 6 2 5 6 5 4 5 5 4 1 6 2 6 2 3 3 1 4 2 1 4 5 1 6 1 2 2 1 6 3 2\n",
            " 1 3 6 2 6 5 5 6 3 6 1 5 6 5 6 2 6 2 5 2 5 5 1 2 1 5 5 5 4 5 4 4 3 5 5 1 1\n",
            " 5 6 2 2 4 5 5 4 3 1 5 6 2 2 6 5 6 6 1 1 3 4 6 6 5 5 6 6 2 2 6 1 6 6 3 1 4\n",
            " 3 3 6 2 5 6 1 2 1 2 5 5 4 1 3 6 6 2 1 4 6 1 4 4 5 5 5 3 6 5 5 3 2 1 6 4 6\n",
            " 2 4 5 6 3 2 1 5 5 6 6 6 1 1 4 4 3 2 5 4 6 3 5 5 1 4 1 4 1 3 5 2 6 5 2 6 4\n",
            " 6 3 5 3 4 3 1 6 3 5 6 6 5 4 4 2 3 3 4 4 5 2 4 5 4 3 3 6 5 6 4 5 6 2 5 5 5\n",
            " 4]\n"
          ]
        }
      ]
    },
    {
      "cell_type": "code",
      "source": [
        "# 出た目が偶数の目であり、かつ、2以下である確率を求める。\n",
        "# Calculate the probability that the dice roll is an even number and less than or equal to 2.\n",
        "num_ab = sum((x % 2 == 0) & (x <= 2))\n",
        "prob_ab = num_ab / num_trial3\n",
        "print(f\"事象Aかつ事象Bの確率：{prob_ab}\")"
      ],
      "metadata": {
        "colab": {
          "base_uri": "https://localhost:8080/"
        },
        "id": "954-SQqnUT0e",
        "outputId": "c20c86d7-e742-4bc4-f475-bb5c0d2cbb68"
      },
      "execution_count": 43,
      "outputs": [
        {
          "output_type": "stream",
          "name": "stdout",
          "text": [
            "事象Aかつ事象Bの確率：0.152\n"
          ]
        }
      ]
    },
    {
      "cell_type": "code",
      "source": [
        "# 出た目の数が偶数の目である確率を求める。\n",
        "# Calculate the probability that the number of dice rolls is an even number.\n",
        "num_a = sum(x % 2 == 0)\n",
        "prob_a = num_a / num_trial3\n",
        "print(f\"事象Aの確率：{prob_a}\")"
      ],
      "metadata": {
        "colab": {
          "base_uri": "https://localhost:8080/"
        },
        "id": "v4Bu8nhRUVSJ",
        "outputId": "51d3385e-4305-43b8-bfc2-30ae133882a1"
      },
      "execution_count": 44,
      "outputs": [
        {
          "output_type": "stream",
          "name": "stdout",
          "text": [
            "事象Aの確率：0.485\n"
          ]
        }
      ]
    },
    {
      "cell_type": "code",
      "source": [
        "# 出た目が偶数の目であったときに、その目が2以下である条件付き確率を求める。\n",
        "# Calculate the conditional probability that the dice roll is less than or equal to 2 when the dice roll is an even number.\n",
        "prob_b_a = prob_ab / prob_a\n",
        "print(f\"事象Aが起きたときの事象Bの条件付き確率：{prob_b_a}\")\n",
        "print(f\"真の確率：{1 / 3}\")"
      ],
      "metadata": {
        "colab": {
          "base_uri": "https://localhost:8080/"
        },
        "id": "5OkesFKlUWpm",
        "outputId": "fe6ffc80-2929-4972-e706-6b045595b6b9"
      },
      "execution_count": 45,
      "outputs": [
        {
          "output_type": "stream",
          "name": "stdout",
          "text": [
            "事象Aが起きたときの事象Bの条件付き確率：0.3134020618556701\n",
            "真の確率：0.3333333333333333\n"
          ]
        }
      ]
    },
    {
      "cell_type": "code",
      "source": [
        "# 練習11 出た目が奇数の目であり、かつ、3以下である確率を求める。\n",
        "# Exercise 11 Calculate the probability that the dice roll is an odd number and less than or equal to 3.\n",
        "num_ab = sum((x % 2 == 1) & (x <= 3))\n",
        "prob_ab = num_ab / num_trial3\n",
        "print(f\"事象Aかつ事象Bの確率：{prob_ab}\")"
      ],
      "metadata": {
        "colab": {
          "base_uri": "https://localhost:8080/"
        },
        "id": "t9ON8B-xUYLw",
        "outputId": "df1ccfe1-1a05-48a2-a9a7-789c3ecda50f"
      },
      "execution_count": 46,
      "outputs": [
        {
          "output_type": "stream",
          "name": "stdout",
          "text": [
            "事象Aかつ事象Bの確率：0.343\n"
          ]
        }
      ]
    },
    {
      "cell_type": "code",
      "source": [
        "# 練習12 出た目の数が奇数の目である確率を求める。\n",
        "# Exercise 12 Calculate the probability that the number of dice rolls is an odd number.\n",
        "num_a = sum(x % 2 == 1)\n",
        "prob_a = num_a / num_trial3\n",
        "print(f\"事象Aかつ事象Bの確率：{prob_a}\")"
      ],
      "metadata": {
        "colab": {
          "base_uri": "https://localhost:8080/"
        },
        "id": "xc-x9GNhUZgI",
        "outputId": "c65b1f5d-8433-44bf-ec4e-a2ac6e2d1ab5"
      },
      "execution_count": 47,
      "outputs": [
        {
          "output_type": "stream",
          "name": "stdout",
          "text": [
            "事象Aかつ事象Bの確率：0.515\n"
          ]
        }
      ]
    },
    {
      "cell_type": "code",
      "source": [
        "# 練習13 出た目が奇数の目であったときに、その目が3以下である条件付き確率を求める。\n",
        "# Exercise 13 Calculate the conditional probability that the dice roll is less than or equal to 3 when the dice roll is an odd number.\n",
        "prob_b_a = prob_ab / prob_a\n",
        "print(f\"事象Aが起きたときの事象Bの条件付き確率：{prob_b_a}\")\n",
        "print(f\"真の確率：{2 / 3}\")"
      ],
      "metadata": {
        "colab": {
          "base_uri": "https://localhost:8080/"
        },
        "id": "6dbIeSWgUbEy",
        "outputId": "ae6b9ba1-73d0-40b0-8d55-08452beacf2a"
      },
      "execution_count": 48,
      "outputs": [
        {
          "output_type": "stream",
          "name": "stdout",
          "text": [
            "事象Aが起きたときの事象Bの条件付き確率：0.6660194174757282\n",
            "真の確率：0.6666666666666666\n"
          ]
        }
      ]
    },
    {
      "cell_type": "markdown",
      "source": [
        "## ベイズの定理\n",
        "\n",
        "ベイズの定理は、結果である事象Bが観測されたときに原因となる事象Aの発生する条件付き確率を推定するために用いられる。\n",
        "\n",
        "$$\n",
        "\\begin{align*}\n",
        "  P(A \\mid B) &= \\frac{P(B \\mid A) P(A)}{P(B)} \\\\\n",
        "  P(B) &= P(B \\mid A) P(A) + P(B \\mid \\bar{A}) P(\\bar{A})\n",
        "\\end{align*}\n",
        "$$\n",
        "\n",
        "ある感染症への感染/非感染を原因となる事象A、検査での陽性/陰性を結果となる事象Bとして、2つのケースで陽性者の感染率$P(A|B)$を計算する。\n",
        "\n",
        "- $A$が感染、$\\bar{A}$が非感染を表す。$B$が陽性、$\\bar{B}$が陰性を表す。\n",
        "- 全人口の感染率を$P(A)$とする。\n",
        "- 感染者が検査をしたときに陽性になる確率を$P(B|A)$、非感染者が検査をしたときに陽性になる確率を$P(B|\\bar{A})$とする。\n",
        "- 陽性率$P(B)$を計算する。\n",
        "- 陽性者の感染率$P(A|B)$を計算する。\n"
      ],
      "metadata": {
        "id": "tztXphbZUcuy"
      }
    },
    {
      "cell_type": "markdown",
      "source": [
        "## Bayes' Theorem\n",
        "\n",
        "Bayes' Theorem is used to estimate the conditional probability that event A, the cause, will occur when event B, the outcome, is observed.\n",
        "\n",
        "$$\n",
        "\\begin{align*}\n",
        "  P(A \\mid B) &= \\frac{P(B \\mid A) P(A)}{P(B)} \\\\\n",
        "  P(B) &= P(B \\mid A) P(A) + P(B \\mid \\bar{A}) P(\\bar{A})\n",
        "\\end{align*}\n",
        "$$\n",
        "\n",
        "Calculate the infection rate of positive persons, $P(A|B)$, with infection/non-infection with a certain infectious disease as the causal event A and positive/negative test results as the consequential event B.\n",
        "\n",
        "- Let $A$ denote infection and $\\bar{A}$ denote non-infection. Let $B$ denote positive and $\\bar{B}$ denote negative.\n",
        "- Let $P(A)$ denote the infection rate in the total population.\n",
        "- Let $P(B|A)$ denote the probability that an infected person is positive when tested and $P(B|\\bar{A})$ denote the probability that a non-infected person is positive when tested.\n",
        "- Calculate the positive rate $P(B)$.\n",
        "- Calculate the infection rate of positive persons, $P(A|B)$"
      ],
      "metadata": {
        "id": "D-RgvebmUevF"
      }
    },
    {
      "cell_type": "markdown",
      "source": [
        "ケース1 $P(A)=0.1, P(B|A)=0.9, P(B|\\bar{A})=0.01$の場合"
      ],
      "metadata": {
        "id": "uOstpcWMUjN2"
      }
    },
    {
      "cell_type": "markdown",
      "source": [
        "Case 1 $P(A)=0.1, P(B|A)=0.9, P(B|\\bar{A})=0.01$"
      ],
      "metadata": {
        "id": "fnn4TsTpUkyz"
      }
    },
    {
      "cell_type": "code",
      "source": [
        "# 練習14 陽性率P(B)を計算する\n",
        "# Exercise 10 Calculate the positive rate P(B).\n",
        "p_a = 0.1\n",
        "p_a_bar = 1 - p_a\n",
        "p_b_a = 0.9\n",
        "p_b_a_bar = 0.01\n",
        "p_b = p_b_a * p_a + p_b_a_bar * p_a_bar\n",
        "print(f'陽性率：{p_b}')"
      ],
      "metadata": {
        "colab": {
          "base_uri": "https://localhost:8080/"
        },
        "id": "-MWgv1qpUd3K",
        "outputId": "59f8f373-9bd6-46af-8204-8d3132920b9e"
      },
      "execution_count": 49,
      "outputs": [
        {
          "output_type": "stream",
          "name": "stdout",
          "text": [
            "陽性率：0.099\n"
          ]
        }
      ]
    },
    {
      "cell_type": "code",
      "source": [
        "# 練習15 陽性者の感染率P(A|B)を求める。\n",
        "# Exercise 11 Calculate the infection rate of positive persons, P(A|B).\n",
        "p_a_b = p_b_a * p_a / p_b\n",
        "print(f'陽性者の感染率：{p_a_b}')"
      ],
      "metadata": {
        "colab": {
          "base_uri": "https://localhost:8080/"
        },
        "id": "MMBfmC-hUrzM",
        "outputId": "114af871-a17e-4685-abf9-bc555dcaf97a"
      },
      "execution_count": 50,
      "outputs": [
        {
          "output_type": "stream",
          "name": "stdout",
          "text": [
            "陽性者の感染率：0.9090909090909092\n"
          ]
        }
      ]
    },
    {
      "cell_type": "markdown",
      "source": [
        "ケース2 $P(A)=0.05, P(B|A)=0.7, p(B|\\bar{A})=0.1$の場合"
      ],
      "metadata": {
        "id": "j9iB2gM9Utl5"
      }
    },
    {
      "cell_type": "markdown",
      "source": [
        "Case 2 $P(A)=0.05, P(B|A)=0.7, p(B|\\bar{A})=0.1$"
      ],
      "metadata": {
        "id": "eBZWfoIlUwEr"
      }
    },
    {
      "cell_type": "code",
      "source": [
        "# 練習 16 陽性率P(B)を計算する\n",
        "# Exercise 12 Calculate the positive rate P(B).\n",
        "p_a = 0.05\n",
        "p_a_bar = 1 - p_a\n",
        "p_b_a = 0.7\n",
        "p_b_a_bar = 0.1\n",
        "p_b = p_b_a * p_a + p_b_a_bar * p_a_bar\n",
        "print(f'陽性率：{p_b}')"
      ],
      "metadata": {
        "colab": {
          "base_uri": "https://localhost:8080/"
        },
        "id": "ywMNXbAAUvH3",
        "outputId": "f96852a4-0224-47a1-e96c-b78694eb702f"
      },
      "execution_count": 51,
      "outputs": [
        {
          "output_type": "stream",
          "name": "stdout",
          "text": [
            "陽性率：0.13\n"
          ]
        }
      ]
    },
    {
      "cell_type": "code",
      "source": [
        "# 練習17 陽性者の感染率P(A|B)を求める。\n",
        "# Exercise 13 Calculate the infection rate of positive persons, P(A|B).\n",
        "p_a_b = p_b_a * p_a / p_b\n",
        "print(f'陽性者の感染率：{p_a_b}')"
      ],
      "metadata": {
        "colab": {
          "base_uri": "https://localhost:8080/"
        },
        "id": "_ZztmEfXUye6",
        "outputId": "ffa60958-3234-40a2-9f8f-ba212cd64979"
      },
      "execution_count": 52,
      "outputs": [
        {
          "output_type": "stream",
          "name": "stdout",
          "text": [
            "陽性者の感染率：0.2692307692307692\n"
          ]
        }
      ]
    }
  ],
  "metadata": {
    "kernelspec": {
      "display_name": "Python 3 (ipykernel)",
      "language": "python",
      "name": "python3"
    },
    "language_info": {
      "codemirror_mode": {
        "name": "ipython",
        "version": 3
      },
      "file_extension": ".py",
      "mimetype": "text/x-python",
      "name": "python",
      "nbconvert_exporter": "python",
      "pygments_lexer": "ipython3",
      "version": "3.10.14"
    },
    "colab": {
      "provenance": [],
      "include_colab_link": true
    }
  },
  "nbformat": 4,
  "nbformat_minor": 0
}