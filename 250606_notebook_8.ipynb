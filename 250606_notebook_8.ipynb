{
  "cells": [
    {
      "cell_type": "markdown",
      "metadata": {
        "id": "view-in-github",
        "colab_type": "text"
      },
      "source": [
        "<a href=\"https://colab.research.google.com/github/ohki-yu0225/toukei_1B_8/blob/main/250606_notebook_8.ipynb\" target=\"_parent\"><img src=\"https://colab.research.google.com/assets/colab-badge.svg\" alt=\"Open In Colab\"/></a>"
      ]
    },
    {
      "cell_type": "markdown",
      "metadata": {
        "id": "9TnIKZHMR4_o"
      },
      "source": [
        "# 統計学実習 IB 第 8 回\n"
      ]
    },
    {
      "cell_type": "markdown",
      "metadata": {
        "id": "Rravke2kR4_p"
      },
      "source": [
        "## 確率\n",
        "### 1つのサイコロを1度振る試行\n",
        "サイコロを1度降る試行をシミュレーションする。シミュレーションにはある確率に従ってあらかじめ定められた範囲の値から、ランダムに1つの値を出力する`np.random.choice`を使う。\n",
        "\n",
        "---\n",
        "```Python\n",
        "np.random.choice({事象}, p={確率}, size={試行回数}) #確率は省略可能\n",
        "```\n",
        "---"
      ]
    },
    {
      "cell_type": "markdown",
      "metadata": {
        "id": "9E_BG6RbR4_p"
      },
      "source": [
        "## Probability\n",
        "### Trial to roll one dice once\n",
        "Simulate an attempt to roll a dice once. The simulation uses `np.random.choice` which outputs a random value from a predefined range of values according to a certain probability.\n",
        "\n",
        "---\n",
        "```Python\n",
        "np.random.choice({event}, p={probability}, size={number of trials}) #Probability is optional\n",
        "```\n",
        "---"
      ]
    },
    {
      "cell_type": "code",
      "source": [
        "# 'pandas', 'numpy', 'matplotlib.pyplot', 'japanize_matplotlib'をインポートする。\n",
        "# Import 'pandas', 'numpy', 'matplotlib.pyplot', and 'japanize_matplotlib'.\n",
        "!pip install japanize_matplotlib\n",
        "import pandas as pd\n",
        "import numpy as np\n",
        "import matplotlib.pyplot as plt\n",
        "import japanize_matplotlib"
      ],
      "metadata": {
        "id": "h1S_loXpZhZf"
      },
      "execution_count": null,
      "outputs": []
    },
    {
      "cell_type": "code",
      "execution_count": null,
      "metadata": {
        "id": "Dd-SFHMgR4_q"
      },
      "outputs": [],
      "source": [
        "# サイコロを1回振る試行を1000回行った結果を出力する。\n",
        "# Output the result of 1000 trials of one roll of the dice.\n",
        "num_trial1 = 1000\n",
        "dice = [1, 2, 3, 4, 5, 6]\n",
        "prob = [1 / 6, 1 / 6, 1 / 6, 1 / 6, 1 / 6, 1 / 6]\n",
        "x = np.random.choice(dice, p=prob, size=num_trial1)\n",
        "print(x)"
      ]
    },
    {
      "cell_type": "markdown",
      "metadata": {
        "id": "8nmC0acBR4_q"
      },
      "source": [
        "出力した結果から度数分布表とヒストグラムを作成する。度数を試行回数で割った値が相対度数であり、相対度数に基づいてヒストグラムを作成するときは`density=True`を`plt.hist`に加える。また、試行回数(`num_trail1`)を変えて、相対度数の数学的確率に近づくことを確認する。（頻度による確率の定義）"
      ]
    },
    {
      "cell_type": "markdown",
      "metadata": {
        "id": "5P72ZjAkR4_q"
      },
      "source": [
        "Create a frequency distribution table and a histogram from the results of the trials obtained. The value of the frequency divided by the number of trials is the relative frequency, and `density=True` is added to `plt.hist` to make a histogram based on the relative frequency. Also, change the number of trials (`num_trail1`) and check that it approaches the mathematical probability of the relative frequency. (Definition of probability by frequency)"
      ]
    },
    {
      "cell_type": "code",
      "execution_count": null,
      "metadata": {
        "id": "AsDelpJyR4_q"
      },
      "outputs": [],
      "source": [
        "# サイコロの出目の度数分布表を作成する。度数分布表には相対度数を加える。\n",
        "# Create a frequency distribution table of the dice rolls. Add relative frequencies to the frequency distribution table.\n",
        "bins = np.arange(1, 8, 1)\n",
        "freq, hist = np.histogram(x, bins=bins)\n",
        "pd.DataFrame({\"度数\": freq, \"相対度数\": freq / num_trial1}, index=np.arange(1, 7))"
      ]
    },
    {
      "cell_type": "code",
      "execution_count": null,
      "metadata": {
        "id": "UVPkbAaSR4_r"
      },
      "outputs": [],
      "source": [
        "# サイコロの出目の相対度数のヒストグラムを図示し、数学的確率と比較する。\n",
        "# ヒストグラムは相対度数で作成する。\n",
        "# Illustrate a histogram of the relative frequencies of the dice rolls and compare them to the mathematical probabilities.\n",
        "# Histograms should be made in relative frequencies.\n",
        "plt.hist(x, bins=bins, density=True) #`density=True`で相対度数のヒストグラムを作成する(Create a histogram of relative frequencies with `density=True`.)\n",
        "plt.hlines(prob, np.arange(1, 7), np.arange(2, 8), colors=\"r\")\n",
        "plt.ylabel(\"相対度数\")\n",
        "plt.xlabel(\"出目\")"
      ]
    },
    {
      "cell_type": "markdown",
      "metadata": {
        "id": "49TsEkqOR4_r"
      },
      "source": [
        "### 歪みのあるコインを１度振る試行"
      ]
    },
    {
      "cell_type": "markdown",
      "metadata": {
        "id": "2CqX9RUwR4_r"
      },
      "source": [
        "### Trials to toss a distorted coin once"
      ]
    },
    {
      "cell_type": "code",
      "execution_count": null,
      "metadata": {
        "id": "hvCheX2aR4_r"
      },
      "outputs": [],
      "source": [
        "# 練習1 コインを1度投げて裏が出る事象を0、表が出る事象を1として、1000回の試行を行った結果を出力する。\n",
        "# コインにはゆがみがあり、裏表が出る確率は1/2ではないと仮定し、任意の確率で表裏が決まるとする。\n",
        "# Exercise 1 Output the results of 1000 trials of flipping a coin once, where 0 is an event that results in a flip and 1 is an event that results in a face.\n",
        "# Assume that the coin is distorted and that the probability of a flip or a face is not 1/2, and that an arbitrary probability determines the obverse and the reverse.\n"
      ]
    },
    {
      "cell_type": "code",
      "execution_count": null,
      "metadata": {
        "id": "26yYFPsXR4_s"
      },
      "outputs": [],
      "source": [
        "# 練習2 コインの裏表の度数分布表を作成する。度数分布表には相対度数を加える。\n",
        "# Exercise 2 Create a frequency distribution table for the obverse and reverse sides of a coin. Add relative frequencies to the frequency distribution table.\n"
      ]
    },
    {
      "cell_type": "code",
      "execution_count": null,
      "metadata": {
        "id": "tKf8LXXkR4_s"
      },
      "outputs": [],
      "source": [
        "# 練習3 コインの裏表のヒストグラムを図示し、練習1で設定した確率と比較する。ヒストグラムは相対度数で作成する。\n",
        "# Exercise 3 Illustrate a histogram of the obverse and reverse sides of a coin and compare it to the probabilities assigned in Exercise 1.\n",
        "# The histograms should be made in relative frequencies.\n"
      ]
    },
    {
      "cell_type": "markdown",
      "metadata": {
        "id": "ZorUYUUxR4_s"
      },
      "source": [
        "### 2つのサイコロを一度振り、出た目を合計する試行"
      ]
    },
    {
      "cell_type": "markdown",
      "metadata": {
        "id": "zS5ZpuA3R4_s"
      },
      "source": [
        "### Trial to roll the two dice once and sum the rolls."
      ]
    },
    {
      "cell_type": "code",
      "execution_count": null,
      "metadata": {
        "id": "qNXOQQXRR4_s"
      },
      "outputs": [],
      "source": [
        "# 練習4 ２つのサイコロを一度振り、その和を計算する試行を1000回行った結果を出力する。\n",
        "# Exercise 4 Output the results of 1000 trials of rolling two dice once and calculating their sum.\n"
      ]
    },
    {
      "cell_type": "code",
      "execution_count": null,
      "metadata": {
        "id": "d4zY2vgWR4_s"
      },
      "outputs": [],
      "source": [
        "# 練習5 2つのサイコロの和の度数分布表を作成する。度数分布表には相対度数を加える。\n",
        "# Exercise 5 Create a frequency distribution table for the sum of two dice. Add relative frequencies to the frequency distribution table.\n"
      ]
    },
    {
      "cell_type": "code",
      "execution_count": null,
      "metadata": {
        "id": "FucvSvTBR4_t"
      },
      "outputs": [],
      "source": [
        "# 練習6 サイコロの目の和のヒストグラムを図示する。ヒストグラムは相対度数で作成する。\n",
        "# Exercise 6 Illustrate a histogram of the sum of the dice rolls. The histogram should be made in relative frequencies.\n"
      ]
    },
    {
      "cell_type": "markdown",
      "source": [
        "## モンティ・ホール問題"
      ],
      "metadata": {
        "id": "3DpH7FHjTqFx"
      }
    },
    {
      "cell_type": "markdown",
      "source": [
        "## Monty Hall problem"
      ],
      "metadata": {
        "id": "0gy4bVKqTsny"
      }
    },
    {
      "cell_type": "markdown",
      "source": [
        "モンティ・ホール問題（モンティ・ホールもんだい、英: Monty Hall problem）とは、確率論の問題で、ベイズの定理における事後確率、あるいは主観確率の例題の一つとなっている。モンティ・ホール（Monty Hall, 本名：Monte Halperin）が司会者を務めるアメリカのゲームショー番組、「Let's make a deal」の中で行われたゲームに関する論争に由来する。一種の心理トリックになっており、確率論から導かれる結果を説明されても、なお納得しない者が少なくないことから、モンティ・ホール・ジレンマ、モンティ・ホール・パラドックスとも称される。「直感で正しいと思える解答と、論理的に正しい解答が異なる問題」の適例とされる。\n",
        "\n",
        "プレーヤーの前に閉じた3つのドアがあって、1つのドアの後ろには景品の新車が、2つのドアの後ろには、はずれを意味するヤギがいる。プレーヤーは新車のドアを当てると新車がもらえる。プレーヤーが1つのドアを選択した後、司会のモンティが残りのドアのうちヤギがいるドアを開けてヤギを見せる。\n",
        "\n",
        "ここでプレーヤーは、最初に選んだドアを、残っている開けられていないドアに変更してもよいと言われる。\n",
        "ここでプレーヤーはドアを変更すべきだろうか？\n",
        "（Wikipediaより）"
      ],
      "metadata": {
        "id": "D98V2BsTTude"
      }
    },
    {
      "cell_type": "markdown",
      "source": [
        "The Monty Hall problem is a brain teaser, in the form of a probability puzzle, based nominally on the American television game show Let's Make a Deal and named after its original host, Monty Hall. The problem was originally posed (and solved) in a letter by Steve Selvin to the American Statistician in 1975. It became famous as a question from reader Craig F. Whitaker's letter quoted in Marilyn vos Savant's \"Ask Marilyn\" column in Parade magazine in 1990:\n",
        "\n",
        "Suppose you're on a game show, and you're given the choice of three doors: Behind one door is a car; behind the others, goats. You pick a door, say No. 1, and the host, who knows what's behind the doors, opens another door, say No. 3, which has a goat. He then says to you, \"Do you want to pick door No. 2?\" Is it to your advantage to switch your choice?\n",
        "\n",
        "(from Wikipedia)"
      ],
      "metadata": {
        "id": "0T3xw1B0Twcc"
      }
    },
    {
      "cell_type": "code",
      "source": [
        "# モンティ・ホール問題を実行する（変更しない）\n",
        "# Run the Monty Hall issue (do not change)\n",
        "def monty_hall_example(choice_ini, change):\n",
        "    choice = [\"A\", \"B\", \"C\"]\n",
        "    ans = np.random.choice(choice)\n",
        "    #choice_ini = \"A\"\n",
        "\n",
        "    # 挑戦者が選んだ扉と正解の扉を覗いた選択肢からモンティ・ホールが1つの扉を選ぶ\n",
        "    choice_mh_list = [item for item in choice if item != choice_ini and item != ans]\n",
        "    choice_mh = np.random.choice(choice_mh_list)\n",
        "\n",
        "    # 選んだ扉を変更する or しない\n",
        "    if change == \"Yes\":\n",
        "        choice_new_list = [\n",
        "            item for item in choice if item != choice_ini and item != choice_mh\n",
        "        ]\n",
        "        choice_new = choice_new_list[0]\n",
        "    else:\n",
        "        choice_new = choice_ini\n",
        "\n",
        "    if ans == choice_new:\n",
        "        result = \"正解！(Win!)\"\n",
        "    else:\n",
        "        result = \"不正解！(Lose!)\"\n",
        "\n",
        "    print(f\"最初に選んだ扉：{choice_ini}\")\n",
        "    print(f\"モンティ・ホールが選んだ扉：{choice_mh}\")\n",
        "    print(f\"扉を変更するか否か：{change}\")\n",
        "    print(f\"最終的に選んだ扉：{choice_new}\")\n",
        "    print(f\"正解の扉：{ans}\")\n",
        "    return result"
      ],
      "metadata": {
        "id": "TXVT_O03Tv2E"
      },
      "execution_count": null,
      "outputs": []
    },
    {
      "cell_type": "code",
      "source": [
        "# 空の配列を作成する。\n",
        "# Create an empty list.\n",
        "result_all = []"
      ],
      "metadata": {
        "id": "vLaFU-xmTz-L"
      },
      "execution_count": null,
      "outputs": []
    },
    {
      "cell_type": "code",
      "source": [
        "# 練習7 モンティ・ホール問題を実行する。`monty_hall_example({最初に選ぶ扉}, {モンティ・ホールの扉選択後に扉を変えるか否か})`を入力し、セルを実行すると結果が出力される。\n",
        "# 扉は\"A\",\"B\",\"C\"で指定する。扉を変えるか否かは\"Yes\",\"No\"で指定する。合計10回実行して、結果を確認する。\n",
        "# Exercise 1 Run the Monty Hall problem. Enter `monty_hall_example({the first door to choose}, {whether to change the door after choosing the door of Monty Hall})`\n",
        "# and run the cell to output the result.\n",
        "# The doors are specified by \"A\", \"B\", or \"C\". Whether or not to change the door is specified by \"Yes\" or \"No\". Execute a total of 10 times and check the results.\n",
        "print(f'{len(result_all)+1}回目')\n",
        "result = monty_hall_example(\"A\", \"No\")\n",
        "result_all.append(result)\n",
        "print(f\"今回の結果：{result}\")\n",
        "print(f\"これまでの結果：{result_all}\")"
      ],
      "metadata": {
        "id": "O4yF3sHST1-I"
      },
      "execution_count": null,
      "outputs": []
    },
    {
      "cell_type": "code",
      "source": [
        "# モンティ・ホール問題を出力無しで実行する（変更しない）\n",
        "# Run the Monty Hall issue without outputs (do not change)\n",
        "def monty_hall(choice_ini, change):\n",
        "    choice = [\"A\", \"B\", \"C\"]\n",
        "    ans = np.random.choice(choice)\n",
        "    #choice_ini = \"A\"\n",
        "\n",
        "    # 挑戦者が選んだ扉と正解の扉を覗いた選択肢からモンティ・ホールが1つの扉を選ぶ\n",
        "    choice_mh_list = [item for item in choice if item != choice_ini and item != ans]\n",
        "    choice_mh = np.random.choice(choice_mh_list)\n",
        "\n",
        "    # 選んだ扉を変更する or しない\n",
        "    if change == \"Yes\":\n",
        "        choice_new_list = [\n",
        "            item for item in choice if item != choice_ini and item != choice_mh\n",
        "        ]\n",
        "        choice_new = choice_new_list[0]\n",
        "    else:\n",
        "        choice_new = choice_ini\n",
        "\n",
        "    if ans == choice_new:\n",
        "        result = 1\n",
        "    else:\n",
        "        result = 0\n",
        "    return result"
      ],
      "metadata": {
        "id": "e8UbvWhdT3bZ"
      },
      "execution_count": null,
      "outputs": []
    },
    {
      "cell_type": "markdown",
      "source": [
        "ケース1 挑戦者は最初に扉Aを選び、モンティ・ホールの扉選択後に選ぶ扉を変える"
      ],
      "metadata": {
        "id": "RDKELvZGT55o"
      }
    },
    {
      "cell_type": "markdown",
      "source": [
        "Case 1: The contestant initially chooses Door A and switches to another door after Monty Hall reveals a door."
      ],
      "metadata": {
        "id": "MOeMauJ5T7p8"
      }
    },
    {
      "cell_type": "code",
      "source": [
        "# 最初に選ぶ扉をAとして、モンティ・ホールの扉の選択後に扉を変える試行を1000回行う。正解は1、不正解は0として出力される。\n",
        "# With A as the first door to be selected, 1000 attempts are made to change doors after Monty Hall has selected a door.\n",
        "# The output is 1 for a win and 0 for a lose.\n",
        "result_yes = []\n",
        "num_trial1 = 1000\n",
        "for i in range(0, num_trial1):\n",
        "    result_temp = monty_hall(\"A\", \"Yes\")\n",
        "    result_yes.append(result_temp)\n",
        "result_yes = np.array(result_yes)\n",
        "print(result_yes)"
      ],
      "metadata": {
        "id": "UK7K9FazT5As"
      },
      "execution_count": null,
      "outputs": []
    },
    {
      "cell_type": "code",
      "source": [
        "# 練習7 正解・不正解の度数分布表を作成する。度数分布表には相対度数を加える。\n",
        "# Exercise 7 Create a frequency distribution table of wins and losses. Add relative frequencies to the frequency distribution table.\n"
      ],
      "metadata": {
        "id": "R7JbobVmUBcx"
      },
      "execution_count": null,
      "outputs": []
    },
    {
      "cell_type": "code",
      "source": [
        "# 練習8 正解・不正解のヒストグラムを図示し、実際の確率と比較する。ヒストグラムは相対度数で作成する。\n",
        "# Exercise 8 Illustrate a histogram of wins and losses and compare it to the actual probability.\n",
        "# The histograms should be made in relative frequencies.\n",
        "\n",
        "# ここにヒストグラムを作成するコードを記述する\n",
        "# Write the code to create the histogram here\n",
        "\n",
        "\n",
        "# 以下は変更しなくてよい\n",
        "# No need to change the following\n",
        "prob = [1 / 3, 2 / 3]\n",
        "plt.hlines(prob, np.arange(0, 2), np.arange(1, 3), colors=\"r\")"
      ],
      "metadata": {
        "id": "6nTC4Mb8UDPx"
      },
      "execution_count": null,
      "outputs": []
    },
    {
      "cell_type": "markdown",
      "source": [
        "ケース2 挑戦者は最初に扉Aを選び、モンティ・ホールの扉選択後も選ぶ扉を変えない"
      ],
      "metadata": {
        "id": "uiOiwUFDUHeB"
      }
    },
    {
      "cell_type": "markdown",
      "source": [
        "Case 2: The contestant initially chooses Door A and does not switch after Monty Hall reveals a door."
      ],
      "metadata": {
        "id": "0HfpwHN1XIh6"
      }
    },
    {
      "cell_type": "code",
      "source": [
        "# 最初に選ぶ扉をAとして、モンティ・ホールの扉の選択後に扉を変えない試行を1000回行う。\n",
        "# With A as the first door to be selected, 1000 attempts are made NOT to change doors after Monty Hall has selected a door.\n",
        "# The output is 1 for a win and 0 for a lose.\n",
        "result_no = []\n",
        "num_trial2 = 1000\n",
        "for i in range(1, num_trial1):\n",
        "    result_temp = monty_hall(\"A\", \"No\")\n",
        "    result_no.append(result_temp)\n",
        "result_no = np.array(result_no)\n",
        "print(result_no)"
      ],
      "metadata": {
        "id": "zkEIJVHdUFMy"
      },
      "execution_count": null,
      "outputs": []
    },
    {
      "cell_type": "code",
      "source": [
        "# 練習9 正解・不正解の度数分布表を作成する。度数分布表には相対度数を加える。\n",
        "# Exercise 9 Create a frequency distribution table of wins and losses. Add relative frequencies to the frequency distribution table.\n"
      ],
      "metadata": {
        "id": "rb1cZ44zUKvj"
      },
      "execution_count": null,
      "outputs": []
    },
    {
      "cell_type": "code",
      "source": [
        "# 練習10 正解・不正解のヒストグラムを図示し、実際の確率と比較する。ヒストグラムは相対度数で作成する。\n",
        "# Exercise 10 Illustrate a histogram of wins and losses and compare it to the actual probability.\n",
        "# The histograms should be made in relative frequencies.\n",
        "\n",
        "# ここにヒストグラムを作成するコードを記述する\n",
        "# Write the code to create the histogram here\n",
        "\n",
        "\n",
        "# 以下は変更しなくてよい\n",
        "# No need to change the following\n",
        "prob = [2 / 3, 1 / 3]\n",
        "plt.hlines(prob, np.arange(0, 2), np.arange(1, 3), colors=\"r\")"
      ],
      "metadata": {
        "id": "FxUQzjEeUMcG"
      },
      "execution_count": null,
      "outputs": []
    },
    {
      "cell_type": "markdown",
      "source": [
        "## 条件付き確率\n",
        "\n",
        "事象Aが起きたときの事象Bの確率を条件付き確率$P(B|A)$と表現し、次の式で計算する。\n",
        "\n",
        "$$\n",
        "    P(B|A) = \\frac{P(A)\\cap P(B)}{P(A)}\n",
        "$$\n",
        "\n",
        "- サイコロを1度ふったときに出た目が偶数の目であったとき（事象A）に、その目が2以下である（事象B）条件付き確率を求める。\n",
        "- サイコロを1度ふったときに出た目が奇数の目であったとき（事象A）に、その目が3以下である（事象B）条件付き確率を求める。"
      ],
      "metadata": {
        "id": "GKqM0Yy_UOfk"
      }
    },
    {
      "cell_type": "markdown",
      "source": [
        "## Conditional Probability\n",
        "\n",
        "The probability of event B when event A occurs is expressed as the conditional probability $P(B|A)$ and is calculated by the following formula.\n",
        "\n",
        "$$\n",
        "    P(B|A) = \\frac{P(A)\\cap P(B)}{P(A)}\n",
        "$$\n",
        "\n",
        "- Calculate the conditional probability that when the dice are rolled once and the result is an even number (event A), the result is less than or equal to 2 (event B).\n",
        "- Calculate the conditional probability that the dice rolls once and the result is an odd number (Event A), and that the result is less than or equal to 3 (Event B)."
      ],
      "metadata": {
        "id": "Hg2SOJkxUQ1G"
      }
    },
    {
      "cell_type": "code",
      "source": [
        "# サイコロを1回振る試行を1000回行った結果を出力する。\n",
        "# Output the result of 1000 trials of one roll of the dice.\n",
        "num_trial3 = 1000\n",
        "dice = [1, 2, 3, 4, 5, 6]\n",
        "prob = [1 / 6, 1 / 6, 1 / 6, 1 / 6, 1 / 6, 1 / 6]\n",
        "x = np.random.choice(dice, p=prob, size=num_trial3)\n",
        "print(x)"
      ],
      "metadata": {
        "id": "U4jBSCBbUQMW"
      },
      "execution_count": null,
      "outputs": []
    },
    {
      "cell_type": "code",
      "source": [
        "# 出た目が偶数の目であり、かつ、2以下である確率を求める。\n",
        "# Calculate the probability that the dice roll is an even number and less than or equal to 2.\n",
        "num_ab = sum((x % 2 == 0) & (x <= 2))\n",
        "prob_ab = num_ab / num_trial3\n",
        "print(f\"事象Aかつ事象Bの確率：{prob_ab}\")"
      ],
      "metadata": {
        "id": "954-SQqnUT0e"
      },
      "execution_count": null,
      "outputs": []
    },
    {
      "cell_type": "code",
      "source": [
        "# 出た目の数が偶数の目である確率を求める。\n",
        "# Calculate the probability that the number of dice rolls is an even number.\n",
        "num_a = sum(x % 2 == 0)\n",
        "prob_a = num_a / num_trial3\n",
        "print(f\"事象Aの確率：{prob_a}\")"
      ],
      "metadata": {
        "id": "v4Bu8nhRUVSJ"
      },
      "execution_count": null,
      "outputs": []
    },
    {
      "cell_type": "code",
      "source": [
        "# 出た目が偶数の目であったときに、その目が2以下である条件付き確率を求める。\n",
        "# Calculate the conditional probability that the dice roll is less than or equal to 2 when the dice roll is an even number.\n",
        "prob_b_a = prob_ab / prob_a\n",
        "print(f\"事象Aが起きたときの事象Bの条件付き確率：{prob_b_a}\")\n",
        "print(f\"真の確率：{1 / 3}\")"
      ],
      "metadata": {
        "id": "5OkesFKlUWpm"
      },
      "execution_count": null,
      "outputs": []
    },
    {
      "cell_type": "code",
      "source": [
        "# 練習11 出た目が奇数の目であり、かつ、3以下である確率を求める。\n",
        "# Exercise 11 Calculate the probability that the dice roll is an odd number and less than or equal to 3.\n",
        "\n",
        "print(f\"事象Aかつ事象Bの確率：{prob_ab}\")"
      ],
      "metadata": {
        "id": "t9ON8B-xUYLw"
      },
      "execution_count": null,
      "outputs": []
    },
    {
      "cell_type": "code",
      "source": [
        "# 練習12 出た目の数が奇数の目である確率を求める。\n",
        "# Exercise 12 Calculate the probability that the number of dice rolls is an odd number.\n",
        "\n",
        "print(f\"事象Aかつ事象Bの確率：{prob_a}\")"
      ],
      "metadata": {
        "id": "xc-x9GNhUZgI"
      },
      "execution_count": null,
      "outputs": []
    },
    {
      "cell_type": "code",
      "source": [
        "# 練習13 出た目が奇数の目であったときに、その目が3以下である条件付き確率を求める。\n",
        "# Exercise 13 Calculate the conditional probability that the dice roll is less than or equal to 3 when the dice roll is an odd number.\n",
        "\n",
        "print(f\"事象Aが起きたときの事象Bの条件付き確率：{prob_b_a}\")\n",
        "print(f\"真の確率：{2 / 3}\")"
      ],
      "metadata": {
        "id": "6dbIeSWgUbEy"
      },
      "execution_count": null,
      "outputs": []
    },
    {
      "cell_type": "markdown",
      "source": [
        "## ベイズの定理\n",
        "\n",
        "ベイズの定理は、結果である事象Bが観測されたときに原因となる事象Aの発生する条件付き確率を推定するために用いられる。\n",
        "\n",
        "$$\n",
        "\\begin{align*}\n",
        "  P(A \\mid B) &= \\frac{P(B \\mid A) P(A)}{P(B)} \\\\\n",
        "  P(B) &= P(B \\mid A) P(A) + P(B \\mid \\bar{A}) P(\\bar{A})\n",
        "\\end{align*}\n",
        "$$\n",
        "\n",
        "ある感染症への感染/非感染を原因となる事象A、検査での陽性/陰性を結果となる事象Bとして、2つのケースで陽性者の感染率$P(A|B)$を計算する。\n",
        "\n",
        "- $A$が感染、$\\bar{A}$が非感染を表す。$B$が陽性、$\\bar{B}$が陰性を表す。\n",
        "- 全人口の感染率を$P(A)$とする。\n",
        "- 感染者が検査をしたときに陽性になる確率を$P(B|A)$、非感染者が検査をしたときに陽性になる確率を$P(B|\\bar{A})$とする。\n",
        "- 陽性率$P(B)$を計算する。\n",
        "- 陽性者の感染率$P(A|B)$を計算する。\n"
      ],
      "metadata": {
        "id": "tztXphbZUcuy"
      }
    },
    {
      "cell_type": "markdown",
      "source": [
        "## Bayes' Theorem\n",
        "\n",
        "Bayes' Theorem is used to estimate the conditional probability that event A, the cause, will occur when event B, the outcome, is observed.\n",
        "\n",
        "$$\n",
        "\\begin{align*}\n",
        "  P(A \\mid B) &= \\frac{P(B \\mid A) P(A)}{P(B)} \\\\\n",
        "  P(B) &= P(B \\mid A) P(A) + P(B \\mid \\bar{A}) P(\\bar{A})\n",
        "\\end{align*}\n",
        "$$\n",
        "\n",
        "Calculate the infection rate of positive persons, $P(A|B)$, with infection/non-infection with a certain infectious disease as the causal event A and positive/negative test results as the consequential event B.\n",
        "\n",
        "- Let $A$ denote infection and $\\bar{A}$ denote non-infection. Let $B$ denote positive and $\\bar{B}$ denote negative.\n",
        "- Let $P(A)$ denote the infection rate in the total population.\n",
        "- Let $P(B|A)$ denote the probability that an infected person is positive when tested and $P(B|\\bar{A})$ denote the probability that a non-infected person is positive when tested.\n",
        "- Calculate the positive rate $P(B)$.\n",
        "- Calculate the infection rate of positive persons, $P(A|B)$"
      ],
      "metadata": {
        "id": "D-RgvebmUevF"
      }
    },
    {
      "cell_type": "markdown",
      "source": [
        "ケース1 $P(A)=0.1, P(B|A)=0.9, P(B|\\bar{A})=0.01$の場合"
      ],
      "metadata": {
        "id": "uOstpcWMUjN2"
      }
    },
    {
      "cell_type": "markdown",
      "source": [
        "Case 1 $P(A)=0.1, P(B|A)=0.9, P(B|\\bar{A})=0.01$"
      ],
      "metadata": {
        "id": "fnn4TsTpUkyz"
      }
    },
    {
      "cell_type": "code",
      "source": [
        "# 練習14 陽性率P(B)を計算する\n",
        "# Exercise 10 Calculate the positive rate P(B).\n",
        "\n",
        "print(f'陽性率：{p_b}')"
      ],
      "metadata": {
        "id": "-MWgv1qpUd3K"
      },
      "execution_count": null,
      "outputs": []
    },
    {
      "cell_type": "code",
      "source": [
        "# 練習15 陽性者の感染率P(A|B)を求める。\n",
        "# Exercise 11 Calculate the infection rate of positive persons, P(A|B).\n",
        "\n",
        "print(f'陽性者の感染率：{p_a_b}')"
      ],
      "metadata": {
        "id": "MMBfmC-hUrzM"
      },
      "execution_count": null,
      "outputs": []
    },
    {
      "cell_type": "markdown",
      "source": [
        "ケース2 $P(A)=0.05, P(B|A)=0.7, p(B|\\bar{A})=0.1$の場合"
      ],
      "metadata": {
        "id": "j9iB2gM9Utl5"
      }
    },
    {
      "cell_type": "markdown",
      "source": [
        "Case 2 $P(A)=0.05, P(B|A)=0.7, p(B|\\bar{A})=0.1$"
      ],
      "metadata": {
        "id": "eBZWfoIlUwEr"
      }
    },
    {
      "cell_type": "code",
      "source": [
        "# 練習 16 陽性率P(B)を計算する\n",
        "# Exercise 12 Calculate the positive rate P(B).\n",
        "\n",
        "print(f'陽性率：{p_b}')"
      ],
      "metadata": {
        "id": "ywMNXbAAUvH3"
      },
      "execution_count": null,
      "outputs": []
    },
    {
      "cell_type": "code",
      "source": [
        "# 練習17 陽性者の感染率P(A|B)を求める。\n",
        "# Exercise 13 Calculate the infection rate of positive persons, P(A|B).\n",
        "\n",
        "print(f'陽性者の感染率：{p_a_b}')"
      ],
      "metadata": {
        "id": "_ZztmEfXUye6"
      },
      "execution_count": null,
      "outputs": []
    }
  ],
  "metadata": {
    "kernelspec": {
      "display_name": "Python 3 (ipykernel)",
      "language": "python",
      "name": "python3"
    },
    "language_info": {
      "codemirror_mode": {
        "name": "ipython",
        "version": 3
      },
      "file_extension": ".py",
      "mimetype": "text/x-python",
      "name": "python",
      "nbconvert_exporter": "python",
      "pygments_lexer": "ipython3",
      "version": "3.10.14"
    },
    "colab": {
      "provenance": [],
      "include_colab_link": true
    }
  },
  "nbformat": 4,
  "nbformat_minor": 0
}